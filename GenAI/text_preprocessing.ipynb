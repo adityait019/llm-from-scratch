{
 "cells": [
  {
   "cell_type": "code",
   "execution_count": 77,
   "id": "46aa2114",
   "metadata": {},
   "outputs": [],
   "source": [
    "import pandas as pd"
   ]
  },
  {
   "cell_type": "code",
   "execution_count": 89,
   "id": "138bc711",
   "metadata": {},
   "outputs": [
    {
     "data": {
      "application/vnd.microsoft.datawrangler.viewer.v0+json": {
       "columns": [
        {
         "name": "index",
         "rawType": "int64",
         "type": "integer"
        },
        {
         "name": "2401",
         "rawType": "int64",
         "type": "integer"
        },
        {
         "name": "Borderlands",
         "rawType": "object",
         "type": "string"
        },
        {
         "name": "Positive",
         "rawType": "object",
         "type": "string"
        },
        {
         "name": "im getting on borderlands and i will murder you all ,",
         "rawType": "object",
         "type": "string"
        }
       ],
       "ref": "ddf17f22-e9c7-4993-b99c-4bf1a5580bd7",
       "rows": [
        [
         "0",
         "2401",
         "Borderlands",
         "Positive",
         "I am coming to the borders and I will kill you all,"
        ],
        [
         "1",
         "2401",
         "Borderlands",
         "Positive",
         "im getting on borderlands and i will kill you all,"
        ],
        [
         "2",
         "2401",
         "Borderlands",
         "Positive",
         "im coming on borderlands and i will murder you all,"
        ],
        [
         "3",
         "2401",
         "Borderlands",
         "Positive",
         "im getting on borderlands 2 and i will murder you me all,"
        ],
        [
         "4",
         "2401",
         "Borderlands",
         "Positive",
         "im getting into borderlands and i can murder you all,"
        ]
       ],
       "shape": {
        "columns": 4,
        "rows": 5
       }
      },
      "text/html": [
       "<div>\n",
       "<style scoped>\n",
       "    .dataframe tbody tr th:only-of-type {\n",
       "        vertical-align: middle;\n",
       "    }\n",
       "\n",
       "    .dataframe tbody tr th {\n",
       "        vertical-align: top;\n",
       "    }\n",
       "\n",
       "    .dataframe thead th {\n",
       "        text-align: right;\n",
       "    }\n",
       "</style>\n",
       "<table border=\"1\" class=\"dataframe\">\n",
       "  <thead>\n",
       "    <tr style=\"text-align: right;\">\n",
       "      <th></th>\n",
       "      <th>2401</th>\n",
       "      <th>Borderlands</th>\n",
       "      <th>Positive</th>\n",
       "      <th>im getting on borderlands and i will murder you all ,</th>\n",
       "    </tr>\n",
       "  </thead>\n",
       "  <tbody>\n",
       "    <tr>\n",
       "      <th>0</th>\n",
       "      <td>2401</td>\n",
       "      <td>Borderlands</td>\n",
       "      <td>Positive</td>\n",
       "      <td>I am coming to the borders and I will kill you...</td>\n",
       "    </tr>\n",
       "    <tr>\n",
       "      <th>1</th>\n",
       "      <td>2401</td>\n",
       "      <td>Borderlands</td>\n",
       "      <td>Positive</td>\n",
       "      <td>im getting on borderlands and i will kill you ...</td>\n",
       "    </tr>\n",
       "    <tr>\n",
       "      <th>2</th>\n",
       "      <td>2401</td>\n",
       "      <td>Borderlands</td>\n",
       "      <td>Positive</td>\n",
       "      <td>im coming on borderlands and i will murder you...</td>\n",
       "    </tr>\n",
       "    <tr>\n",
       "      <th>3</th>\n",
       "      <td>2401</td>\n",
       "      <td>Borderlands</td>\n",
       "      <td>Positive</td>\n",
       "      <td>im getting on borderlands 2 and i will murder ...</td>\n",
       "    </tr>\n",
       "    <tr>\n",
       "      <th>4</th>\n",
       "      <td>2401</td>\n",
       "      <td>Borderlands</td>\n",
       "      <td>Positive</td>\n",
       "      <td>im getting into borderlands and i can murder y...</td>\n",
       "    </tr>\n",
       "  </tbody>\n",
       "</table>\n",
       "</div>"
      ],
      "text/plain": [
       "   2401  Borderlands  Positive  \\\n",
       "0  2401  Borderlands  Positive   \n",
       "1  2401  Borderlands  Positive   \n",
       "2  2401  Borderlands  Positive   \n",
       "3  2401  Borderlands  Positive   \n",
       "4  2401  Borderlands  Positive   \n",
       "\n",
       "  im getting on borderlands and i will murder you all ,  \n",
       "0  I am coming to the borders and I will kill you...     \n",
       "1  im getting on borderlands and i will kill you ...     \n",
       "2  im coming on borderlands and i will murder you...     \n",
       "3  im getting on borderlands 2 and i will murder ...     \n",
       "4  im getting into borderlands and i can murder y...     "
      ]
     },
     "execution_count": 89,
     "metadata": {},
     "output_type": "execute_result"
    }
   ],
   "source": [
    "filepath1 =r'C:\\tcs\\archive\\twitter_training.csv'\n",
    "df=pd.read_csv(filepath1)\n",
    "df.head()"
   ]
  },
  {
   "cell_type": "code",
   "execution_count": 90,
   "id": "f874ce8d",
   "metadata": {},
   "outputs": [
    {
     "data": {
      "text/plain": [
       "array(['Borderlands', 'CallOfDutyBlackopsColdWar', 'Amazon', 'Overwatch',\n",
       "       'Xbox(Xseries)', 'NBA2K', 'Dota2', 'PlayStation5(PS5)',\n",
       "       'WorldOfCraft', 'CS-GO', 'Google', 'AssassinsCreed', 'ApexLegends',\n",
       "       'LeagueOfLegends', 'Fortnite', 'Microsoft', 'Hearthstone',\n",
       "       'Battlefield', 'PlayerUnknownsBattlegrounds(PUBG)', 'Verizon',\n",
       "       'HomeDepot', 'FIFA', 'RedDeadRedemption(RDR)', 'CallOfDuty',\n",
       "       'TomClancysRainbowSix', 'Facebook', 'GrandTheftAuto(GTA)',\n",
       "       'MaddenNFL', 'johnson&johnson', 'Cyberpunk2077',\n",
       "       'TomClancysGhostRecon', 'Nvidia'], dtype=object)"
      ]
     },
     "execution_count": 90,
     "metadata": {},
     "output_type": "execute_result"
    }
   ],
   "source": [
    "df.Borderlands.unique()"
   ]
  },
  {
   "cell_type": "code",
   "execution_count": 91,
   "id": "f61d4213",
   "metadata": {},
   "outputs": [],
   "source": [
    "df.columns=['twit_ids','topic','sentiment','review']"
   ]
  },
  {
   "cell_type": "code",
   "execution_count": 92,
   "id": "cadc3cb8",
   "metadata": {},
   "outputs": [
    {
     "data": {
      "application/vnd.microsoft.datawrangler.viewer.v0+json": {
       "columns": [
        {
         "name": "index",
         "rawType": "int64",
         "type": "integer"
        },
        {
         "name": "twit_ids",
         "rawType": "int64",
         "type": "integer"
        },
        {
         "name": "topic",
         "rawType": "object",
         "type": "string"
        },
        {
         "name": "sentiment",
         "rawType": "object",
         "type": "string"
        },
        {
         "name": "review",
         "rawType": "object",
         "type": "string"
        }
       ],
       "ref": "6c6c319d-e505-4ad3-8e30-15178bc09716",
       "rows": [
        [
         "0",
         "2401",
         "Borderlands",
         "Positive",
         "I am coming to the borders and I will kill you all,"
        ],
        [
         "1",
         "2401",
         "Borderlands",
         "Positive",
         "im getting on borderlands and i will kill you all,"
        ],
        [
         "2",
         "2401",
         "Borderlands",
         "Positive",
         "im coming on borderlands and i will murder you all,"
        ],
        [
         "3",
         "2401",
         "Borderlands",
         "Positive",
         "im getting on borderlands 2 and i will murder you me all,"
        ],
        [
         "4",
         "2401",
         "Borderlands",
         "Positive",
         "im getting into borderlands and i can murder you all,"
        ]
       ],
       "shape": {
        "columns": 4,
        "rows": 5
       }
      },
      "text/html": [
       "<div>\n",
       "<style scoped>\n",
       "    .dataframe tbody tr th:only-of-type {\n",
       "        vertical-align: middle;\n",
       "    }\n",
       "\n",
       "    .dataframe tbody tr th {\n",
       "        vertical-align: top;\n",
       "    }\n",
       "\n",
       "    .dataframe thead th {\n",
       "        text-align: right;\n",
       "    }\n",
       "</style>\n",
       "<table border=\"1\" class=\"dataframe\">\n",
       "  <thead>\n",
       "    <tr style=\"text-align: right;\">\n",
       "      <th></th>\n",
       "      <th>twit_ids</th>\n",
       "      <th>topic</th>\n",
       "      <th>sentiment</th>\n",
       "      <th>review</th>\n",
       "    </tr>\n",
       "  </thead>\n",
       "  <tbody>\n",
       "    <tr>\n",
       "      <th>0</th>\n",
       "      <td>2401</td>\n",
       "      <td>Borderlands</td>\n",
       "      <td>Positive</td>\n",
       "      <td>I am coming to the borders and I will kill you...</td>\n",
       "    </tr>\n",
       "    <tr>\n",
       "      <th>1</th>\n",
       "      <td>2401</td>\n",
       "      <td>Borderlands</td>\n",
       "      <td>Positive</td>\n",
       "      <td>im getting on borderlands and i will kill you ...</td>\n",
       "    </tr>\n",
       "    <tr>\n",
       "      <th>2</th>\n",
       "      <td>2401</td>\n",
       "      <td>Borderlands</td>\n",
       "      <td>Positive</td>\n",
       "      <td>im coming on borderlands and i will murder you...</td>\n",
       "    </tr>\n",
       "    <tr>\n",
       "      <th>3</th>\n",
       "      <td>2401</td>\n",
       "      <td>Borderlands</td>\n",
       "      <td>Positive</td>\n",
       "      <td>im getting on borderlands 2 and i will murder ...</td>\n",
       "    </tr>\n",
       "    <tr>\n",
       "      <th>4</th>\n",
       "      <td>2401</td>\n",
       "      <td>Borderlands</td>\n",
       "      <td>Positive</td>\n",
       "      <td>im getting into borderlands and i can murder y...</td>\n",
       "    </tr>\n",
       "  </tbody>\n",
       "</table>\n",
       "</div>"
      ],
      "text/plain": [
       "   twit_ids        topic sentiment  \\\n",
       "0      2401  Borderlands  Positive   \n",
       "1      2401  Borderlands  Positive   \n",
       "2      2401  Borderlands  Positive   \n",
       "3      2401  Borderlands  Positive   \n",
       "4      2401  Borderlands  Positive   \n",
       "\n",
       "                                              review  \n",
       "0  I am coming to the borders and I will kill you...  \n",
       "1  im getting on borderlands and i will kill you ...  \n",
       "2  im coming on borderlands and i will murder you...  \n",
       "3  im getting on borderlands 2 and i will murder ...  \n",
       "4  im getting into borderlands and i can murder y...  "
      ]
     },
     "execution_count": 92,
     "metadata": {},
     "output_type": "execute_result"
    }
   ],
   "source": [
    "df.head()"
   ]
  },
  {
   "cell_type": "code",
   "execution_count": 93,
   "id": "ffef5bf5",
   "metadata": {},
   "outputs": [
    {
     "data": {
      "text/plain": [
       "array(['Positive', 'Neutral', 'Negative', 'Irrelevant'], dtype=object)"
      ]
     },
     "execution_count": 93,
     "metadata": {},
     "output_type": "execute_result"
    }
   ],
   "source": [
    "df.sentiment.unique()"
   ]
  },
  {
   "cell_type": "code",
   "execution_count": 94,
   "id": "905beb87",
   "metadata": {},
   "outputs": [],
   "source": [
    "df=df.head(100)"
   ]
  },
  {
   "cell_type": "code",
   "execution_count": 82,
   "id": "049259a0",
   "metadata": {},
   "outputs": [
    {
     "data": {
      "text/plain": [
       "(100, 4)"
      ]
     },
     "execution_count": 82,
     "metadata": {},
     "output_type": "execute_result"
    }
   ],
   "source": [
    "df.shape"
   ]
  },
  {
   "cell_type": "code",
   "execution_count": 95,
   "id": "56545343",
   "metadata": {},
   "outputs": [
    {
     "data": {
      "text/plain": [
       "\"2010 So I spent a few hours making something for fun. . . If you don't know I am a HUGE RhandlerR fan and Maya is one of my favorite characters. So I decided to make myself a wallpaper for my PC. . Here is the original image versus the creation I made :) Enjoy! pic.twitter.com/mLsI5wf9Jg\""
      ]
     },
     "execution_count": 95,
     "metadata": {},
     "output_type": "execute_result"
    }
   ],
   "source": [
    "df['review'][9]"
   ]
  },
  {
   "cell_type": "code",
   "execution_count": 96,
   "id": "583cc68b",
   "metadata": {},
   "outputs": [],
   "source": [
    "df['review']=df['review'].str.lower()"
   ]
  },
  {
   "cell_type": "code",
   "execution_count": 19,
   "id": "aedc91fd",
   "metadata": {},
   "outputs": [
    {
     "data": {
      "text/plain": [
       "\"2010 so i spent a few hours making something for fun. . . if you don't know i am a huge rhandlerr fan and maya is one of my favorite characters. so i decided to make myself a wallpaper for my pc. . here is the original image versus the creation i made :) enjoy! pic.twitter.com/mlsi5wf9jg\""
      ]
     },
     "execution_count": 19,
     "metadata": {},
     "output_type": "execute_result"
    }
   ],
   "source": [
    "df['review'][9]"
   ]
  },
  {
   "cell_type": "code",
   "execution_count": 22,
   "id": "a4b376af",
   "metadata": {},
   "outputs": [
    {
     "data": {
      "text/plain": [
       "'that was the first borderlands session in a long time where i actually enjoyed a really satisfying combat experience. i got some rather good kills'"
      ]
     },
     "execution_count": 22,
     "metadata": {},
     "output_type": "execute_result"
    }
   ],
   "source": [
    "df['review'][20]"
   ]
  },
  {
   "cell_type": "markdown",
   "id": "69dc5ea2",
   "metadata": {},
   "source": [
    "remove url"
   ]
  },
  {
   "cell_type": "code",
   "execution_count": 85,
   "id": "06d9d614",
   "metadata": {},
   "outputs": [],
   "source": [
    "import re\n",
    "def remove_url(text):  \n",
    "    url_pattern = r'http[s]?://(?:[a-zA-Z]|[0-9]|[$-_@.&+]|[!*\\(\\),]|(?:%[0-9a-fA-F][0-9a-fA-F]))+'\n",
    "    return re.sub(url_pattern, '', text)"
   ]
  },
  {
   "cell_type": "code",
   "execution_count": 98,
   "id": "4135d229",
   "metadata": {},
   "outputs": [],
   "source": [
    "# df=df.dropna()\n",
    "# df.shape\n",
    "df['review']=df['review'].apply(remove_url)"
   ]
  },
  {
   "cell_type": "code",
   "execution_count": 99,
   "id": "f46f70c1",
   "metadata": {},
   "outputs": [
    {
     "data": {
      "text/plain": [
       "\"2010 so i spent a few hours making something for fun. . . if you don't know i am a huge rhandlerr fan and maya is one of my favorite characters. so i decided to make myself a wallpaper for my pc. . here is the original image versus the creation i made :) enjoy! pic.twitter.com/mlsi5wf9jg\""
      ]
     },
     "execution_count": 99,
     "metadata": {},
     "output_type": "execute_result"
    }
   ],
   "source": [
    "df['review'][9]"
   ]
  },
  {
   "cell_type": "code",
   "execution_count": 26,
   "id": "cb2be683",
   "metadata": {},
   "outputs": [
    {
     "data": {
      "text/plain": [
       "'!\"#$%&\\'()*+,-./:;<=>?@[\\\\]^_`{|}~'"
      ]
     },
     "execution_count": 26,
     "metadata": {},
     "output_type": "execute_result"
    }
   ],
   "source": [
    "import string\n",
    "string.punctuation"
   ]
  },
  {
   "cell_type": "code",
   "execution_count": 100,
   "id": "94028cdb",
   "metadata": {},
   "outputs": [],
   "source": [
    "exclude=set(string.punctuation)"
   ]
  },
  {
   "cell_type": "code",
   "execution_count": 101,
   "id": "724c536e",
   "metadata": {},
   "outputs": [],
   "source": [
    "def remove_punctuation(text):\n",
    "    for char in exclude:\n",
    "        text=text.replace(char,'')\n",
    "    return text"
   ]
  },
  {
   "cell_type": "code",
   "execution_count": 43,
   "id": "bfa0b531",
   "metadata": {},
   "outputs": [],
   "source": [
    "with open(r\"C:\\tcs\\archive\\string_text.txt\", mode='r', encoding=\"UTF-8\") as file:\n",
    "    text = file.read()\n"
   ]
  },
  {
   "cell_type": "code",
   "execution_count": 44,
   "id": "01362619",
   "metadata": {},
   "outputs": [
    {
     "name": "stdout",
     "output_type": "stream",
     "text": [
      "She said “Hello”\n",
      "I’ll be there at 330 pm\n",
      "Let’s meet at the park\n",
      "He asked “How are you doing”\n",
      "The cat meowed loudly\n",
      "The concert starts at 700 pm so don’t be late\n",
      "I can’t believe it’s already Friday\n",
      "“Stop” shouted the teacher\n",
      "The cake is ready let’s eat\n",
      "I have a question What’s your favorite color\n",
      "He waved goodbye as the train departed\n",
      "My dog Max is very playful\n",
      "The weather is nice today isn’t it\n",
      "“Congratulations on your promotion” she exclaimed\n",
      "The recipe calls for eggs milk and flour\n",
      "I have a doctor’s appointment on Monday\n",
      "“Please pass the salt” she said politely\n",
      "The movie was so scary that I closed my eyes\n",
      "I’m going to the store to buy some groceries\n",
      "He asked “Are you coming to the party”\n",
      "The fireworks were spectacular\n",
      "The car’s tire is flat we need to change it\n",
      "“Don’t forget to call me” she reminded him\n",
      "The meeting is scheduled for tomorrow morning\n",
      "The book was filled with suspense\n",
      "“I love you” he whispered in her ear\n",
      "My favorite fruits are apples oranges and bananas\n",
      "She wore a beautiful dress to the wedding\n",
      "“Where are you going” he inquired\n",
      "It’s raining outside so bring an umbrella\n",
      "The teacher asked “Who can answer this question”\n",
      "The concert was fantastic I danced all night\n",
      "I’ll meet you at the cafe at 100\n",
      "The dog barked loudly scaring the cat\n",
      "“Please don’t leave me” she pleaded\n",
      "I need to finish this report by 500\n",
      "He said “I’ll be there in 10 minutes”\n",
      "The movie starts at 800 don’t be late\n",
      "“What’s your favorite book” she asked\n",
      "My grandmother who is 90 years old still knits\n",
      "The cake was delicious I want another slice\n",
      "“Congratulations on your graduation” they cheered\n",
      "I have a dentist appointment on Wednesday\n",
      "The cat jumped onto the table knocking over a glass\n",
      "The weather is beautiful today isn’t it\n",
      "“Can you pass me the salt” he requested\n",
      "The movie was so funny that I laughed until I cried\n",
      "I’m going to the gym to work out\n",
      "She said “I’ll be home by 700”\n",
      "The fireworks lit up the night sky\n",
      "The car’s engine is making a strange noise we should have it checked\n",
      "“Don’t forget to pick up some milk” she reminded him\n",
      "The meeting is set for Monday afternoon\n",
      "The book was an epic adventure\n",
      "“I miss you” he texted her\n",
      "My favorite colors are blue green and purple\n",
      "She wore a stunning gown to the gala\n",
      "“Where did you find that treasure” he asked\n",
      "It’s snowing heavily so drive carefully\n",
      "The teacher wondered “Who will win the spelling bee”\n",
      "The concert was a blast I sang along the whole time\n",
      "I’ll meet you at the library around 230\n",
      "The dog growled menacingly at the stranger\n",
      "“Please don’t be late” she implored\n",
      "I need to submit this report by Friday\n",
      "He texted “I’ll be there in 15 minutes”\n",
      "The movie ended at 1030 it was quite long\n",
      "“What’s your favorite song” she inquired\n",
      "My brother who lives in New York is visiting this weekend\n",
      "The pie was delicious I had seconds\n",
      "“Congratulations on your new job” they exclaimed\n",
      "I have a doctor’s appointment on Thursday morning\n",
      "The cat knocked over a vase making a mess\n",
      "The weather is perfect for a picnic don’t you think\n",
      "“Can you pass the pepper” he requested\n",
      "The movie had a surprise ending that left everyone shocked\n",
      "I’m going to the post office to mail some letters\n",
      "She said “I’ll be back by 600”\n",
      "The fireworks display was breathtaking\n",
      "The car’s battery is dead we need a jumpstart\n",
      "“Don’t forget to water the plants” she reminded him\n",
      "The meeting is taking place in the conference room\n",
      "The book was filled with suspense and mystery\n",
      "“I believe in you” he encouraged her\n",
      "My favorite hobbies include painting reading and hiking\n",
      "She wore a stylish hat to the event\n",
      "“Where did you find that rare coin” he wondered\n",
      "It’s hailing outside so stay indoors\n",
      "The teacher asked “Who can solve this math problem”\n",
      "The concert was so loud that I had to wear earplugs\n",
      "I’ll meet you at the café at noon\n",
      "The dog wagged its tail happily\n",
      "“Please pass me the ketchup” she requested\n",
      "The movie began at 900 it’s a long one\n",
      "“What’s your favorite movie genre” she asked\n",
      "My sister who lives in Paris is visiting next month\n",
      "The cake was so sweet that I couldn’t finish it\n",
      "“Congratulations on your engagement” they toasted\n",
      "I have a dentist appointment on Monday afternoon\n",
      "The cat purred contentedly on the couch\n",
      "The weather is unpredictable in spring isn’t it\n",
      "“Can you pass me the salad” he asked\n",
      "The movie was a romantic comedy that made me laugh\n",
      "I’m going to the library to study\n",
      "She said “I’ll be there in a minute”\n",
      "The fireworks show was canceled due to rain\n",
      "The car’s headlights are too bright they need adjusting\n",
      "“Don’t forget to lock the door” she reminded him\n",
      "The meeting is scheduled for Friday morning\n",
      "The book was an international bestseller\n",
      "“I’ll always support you” he assured her\n",
      "My favorite subjects are math science and history\n",
      "She wore a beautiful necklace to the party\n",
      "“Where did you find that old map” he wondered\n",
      "It’s foggy outside so drive cautiously\n",
      "The teacher asked “Who can recite the alphabet”\n",
      "The concert was sold out we couldn’t get tickets\n",
      "I’ll meet you at the beach at sunrise\n",
      "The dog chased its tail in circles\n",
      "“Please don’t make a mess” she pleaded\n",
      "I need to finish this book by tomorrow\n",
      "He texted “I’ll be there in 5 minutes”\n",
      "The movie had a surprising twist at the end\n",
      "“What’s your favorite type of cuisine” she inquired\n",
      "My cousin who lives in Australia is coming to visit\n",
      "The cake was so moist and delicious\n",
      "“Congratulations on your anniversary” they congratulated\n",
      "I have a doctor’s appointment on Wednesday afternoon\n",
      "The cat curled up on the windowsill and slept\n",
      "The weather is warm and sunny today\n",
      "“Can you pass me the butter” he asked\n",
      "The movie received fivestar reviews from critics\n",
      "I’m going to the gym to work on my fitness\n",
      "She said “I’ll be right back”\n",
      "The fireworks display was mesmerizing\n",
      "The car’s windshield wipers need replacing\n",
      "“Don’t forget to feed the fish” she reminded him\n",
      "The meeting is scheduled for next Monday\n",
      "The book was a thrilling pageturner\n",
      "“I trust your judgment” he assured her\n",
      "My favorite animals are cats dogs and rabbits\n",
      "She wore a stunning dress to the gala\n",
      "“Where did you find that vintage record” he asked\n",
      "It’s hot outside so stay hydrated\n",
      "The teacher wondered “Who will volunteer for the project”\n",
      "The concert was a onceinalifetime experience\n",
      "I’ll meet you at the café in the evening\n",
      "The dog barked excitedly when I arrived\n",
      "“Please don’t be late for the ceremony” she pleaded\n",
      "I need to submit this report by the end of the week\n",
      "He texted “I’ll be there in 20 minutes”\n",
      "The movie had a heartwarming message\n",
      "“What’s your favorite type of music” she inquired\n",
      "My best friend who lives in another state is coming to visit\n",
      "The cake was a work of art I didn’t want to cut it\n",
      "“Congratulations on your retirement” they celebrated\n",
      "I have a dentist appointment on Thursday morning\n",
      "The cat jumped onto the counter searching for food\n",
      "The weather is chilly so wear a jacket\n",
      "“Can you pass me the remote” he asked\n",
      "The movie won several awards at the film festival\n",
      "I’m going to the post office to mail a package\n",
      "She said “I’ll be home before dark”\n",
      "The fireworks lit up the night sky beautifully\n",
      "The car’s engine roared to life\n",
      "“Don’t forget to lock the gate” she reminded him\n",
      "The meeting is happening in the boardroom\n",
      "The book was a classic masterpiece\n",
      "“I believe in your abilities” he encouraged her\n",
      "My favorite authors are Shakespeare Dickens and Austen\n",
      "She wore a fashionable hat to the event\n",
      "“Where did you find that antique clock” he wondered\n",
      "It’s raining outside so bring an umbrella\n",
      "The teacher asked “Who can solve this riddle”\n",
      "The concert was an unforgettable experience\n",
      "I’ll meet you at the park at noon\n",
      "The dog wagged its tail happily\n",
      "“Please pass me the menu” she requested\n",
      "The movie started late due to technical difficulties\n",
      "“What’s your favorite ice cream flavor” she inquired\n",
      "My grandmother who is 95 years old still goes for walks\n",
      "The cake was incredibly delicious I had a second slice\n",
      "“Congratulations on your achievement” they cheered\n",
      "I have a doctor’s appointment on Tuesday afternoon\n",
      "The cat knocked over a vase of flowers\n",
      "The weather is perfect for a hike don’t you think\n",
      "“Can you pass me the salt shaker” he asked\n",
      "The movie had a surprising plot twist\n",
      "I’m going to the library to study for my exams\n",
      "She said “I’ll be there in a moment”\n",
      "The fireworks display was canceled due to safety concerns\n",
      "The car’s headlights are too dim they need adjustment\n",
      "“Don’t forget to water the plants daily” she reminded him\n",
      "The meeting is set for next Friday\n",
      "The book was an international bestseller\n",
      "“I’ll always support your dreams” he assured her\n",
      "My favorite activities include hiking biking and camping\n",
      "She wore a beautiful necklace to the party\n",
      "“Where did you find that ancient artifact” he wondered\n",
      "It’s snowing outside so stay warm\n",
      "The teacher asked “Who can solve this puzzle”\n",
      "The concert was sold out within minutes\n",
      "I’ll meet you at the beach at sunrise\n",
      "The dog chased its tail playfully\n",
      "“Please don’t spill the juice” she pleaded\n",
      "I need to finish this book by the end of the month\n",
      "He texted “I’ll be there in 10 minutes”\n",
      "The movie had an unexpected ending\n",
      "“What’s your favorite genre of books” she inquired\n",
      "My cousin who lives in Canada is coming to visit\n",
      "The cake was so scrumptious that I asked for the recipe\n",
      "“Congratulations on your new house” they exclaimed\n",
      "I have a dentist appointment on Monday morning\n",
      "The cat purred contentedly on the couch\n",
      "The weather is sunny and warm today\n",
      "“Can you pass me the salad dressing” he asked\n",
      "The movie received rave reviews from critics\n",
      "I’m going to the gym to exercise\n",
      "She said “I’ll be there in a jiffy”\n",
      "The fireworks show was postponed due to rain\n",
      "The car’s windshield wipers need replacing soon\n",
      "“Don’t forget to lock the door when you leave” she reminded him\n",
      "The meeting is scheduled for Monday morning\n",
      "The book was a captivating read\n",
      "“I trust your judgment” he reassured her\n",
      "My favorite sports include soccer basketball and tennis\n",
      "She wore a fashionable hat to the event\n",
      "“Where did you find that antique vase” he wondered\n",
      "It’s foggy outside so be cautious on the road\n",
      "The teacher asked “Who can recite the multiplication tables”\n",
      "The concert was a magical experience\n",
      "I’ll meet you at the café at 300\n",
      "The dog barked loudly when the doorbell rang\n",
      "“Please don’t be late for the ceremony” she pleaded\n",
      "I need to submit this report by the end of the day\n",
      "He texted “I’ll be there in 15 minutes”\n",
      "The movie had a touching storyline\n",
      "“What’s your favorite type of cuisine” she inquired\n",
      "My aunt who lives in Spain is coming to visit\n",
      "The cake was so delicious that I had to have another slice\n",
      "“Congratulations on your retirement” they toasted\n",
      "I have a dentist appointment on Thursday afternoon\n",
      "The cat knocked over a glass of water\n",
      "The weather is chilly so dress warmly\n",
      "“Can you pass me the remote control” he asked\n",
      "The movie won several awards at the film festival\n",
      "I’m going to the post office to send a package\n",
      "She said “I’ll be home by 800”\n",
      "The fireworks display was breathtaking\n",
      "The car’s engine roared to life with a loud rumble\n",
      "\n",
      "0.7874965667724609\n"
     ]
    }
   ],
   "source": [
    "import time\n",
    "start=time.time()\n",
    "print(remove_punctuation(text))\n",
    "time_taken=time.time()-start\n",
    "print(time_taken*1000)  # Convert to milliseconds"
   ]
  },
  {
   "cell_type": "code",
   "execution_count": 102,
   "id": "6e26d57f",
   "metadata": {},
   "outputs": [],
   "source": [
    "exclude = string.punctuation\n",
    "def remove_punctuationV2(text):\n",
    "    return text.translate(str.maketrans('', '', exclude))"
   ]
  },
  {
   "cell_type": "code",
   "execution_count": 46,
   "id": "719e9c76",
   "metadata": {},
   "outputs": [
    {
     "name": "stdout",
     "output_type": "stream",
     "text": [
      "She said “Hello”\n",
      "I’ll be there at 330 pm\n",
      "Let’s meet at the park\n",
      "He asked “How are you doing”\n",
      "The cat meowed loudly\n",
      "The concert starts at 700 pm so don’t be late\n",
      "I can’t believe it’s already Friday\n",
      "“Stop” shouted the teacher\n",
      "The cake is ready let’s eat\n",
      "I have a question What’s your favorite color\n",
      "He waved goodbye as the train departed\n",
      "My dog Max is very playful\n",
      "The weather is nice today isn’t it\n",
      "“Congratulations on your promotion” she exclaimed\n",
      "The recipe calls for eggs milk and flour\n",
      "I have a doctor’s appointment on Monday\n",
      "“Please pass the salt” she said politely\n",
      "The movie was so scary that I closed my eyes\n",
      "I’m going to the store to buy some groceries\n",
      "He asked “Are you coming to the party”\n",
      "The fireworks were spectacular\n",
      "The car’s tire is flat we need to change it\n",
      "“Don’t forget to call me” she reminded him\n",
      "The meeting is scheduled for tomorrow morning\n",
      "The book was filled with suspense\n",
      "“I love you” he whispered in her ear\n",
      "My favorite fruits are apples oranges and bananas\n",
      "She wore a beautiful dress to the wedding\n",
      "“Where are you going” he inquired\n",
      "It’s raining outside so bring an umbrella\n",
      "The teacher asked “Who can answer this question”\n",
      "The concert was fantastic I danced all night\n",
      "I’ll meet you at the cafe at 100\n",
      "The dog barked loudly scaring the cat\n",
      "“Please don’t leave me” she pleaded\n",
      "I need to finish this report by 500\n",
      "He said “I’ll be there in 10 minutes”\n",
      "The movie starts at 800 don’t be late\n",
      "“What’s your favorite book” she asked\n",
      "My grandmother who is 90 years old still knits\n",
      "The cake was delicious I want another slice\n",
      "“Congratulations on your graduation” they cheered\n",
      "I have a dentist appointment on Wednesday\n",
      "The cat jumped onto the table knocking over a glass\n",
      "The weather is beautiful today isn’t it\n",
      "“Can you pass me the salt” he requested\n",
      "The movie was so funny that I laughed until I cried\n",
      "I’m going to the gym to work out\n",
      "She said “I’ll be home by 700”\n",
      "The fireworks lit up the night sky\n",
      "The car’s engine is making a strange noise we should have it checked\n",
      "“Don’t forget to pick up some milk” she reminded him\n",
      "The meeting is set for Monday afternoon\n",
      "The book was an epic adventure\n",
      "“I miss you” he texted her\n",
      "My favorite colors are blue green and purple\n",
      "She wore a stunning gown to the gala\n",
      "“Where did you find that treasure” he asked\n",
      "It’s snowing heavily so drive carefully\n",
      "The teacher wondered “Who will win the spelling bee”\n",
      "The concert was a blast I sang along the whole time\n",
      "I’ll meet you at the library around 230\n",
      "The dog growled menacingly at the stranger\n",
      "“Please don’t be late” she implored\n",
      "I need to submit this report by Friday\n",
      "He texted “I’ll be there in 15 minutes”\n",
      "The movie ended at 1030 it was quite long\n",
      "“What’s your favorite song” she inquired\n",
      "My brother who lives in New York is visiting this weekend\n",
      "The pie was delicious I had seconds\n",
      "“Congratulations on your new job” they exclaimed\n",
      "I have a doctor’s appointment on Thursday morning\n",
      "The cat knocked over a vase making a mess\n",
      "The weather is perfect for a picnic don’t you think\n",
      "“Can you pass the pepper” he requested\n",
      "The movie had a surprise ending that left everyone shocked\n",
      "I’m going to the post office to mail some letters\n",
      "She said “I’ll be back by 600”\n",
      "The fireworks display was breathtaking\n",
      "The car’s battery is dead we need a jumpstart\n",
      "“Don’t forget to water the plants” she reminded him\n",
      "The meeting is taking place in the conference room\n",
      "The book was filled with suspense and mystery\n",
      "“I believe in you” he encouraged her\n",
      "My favorite hobbies include painting reading and hiking\n",
      "She wore a stylish hat to the event\n",
      "“Where did you find that rare coin” he wondered\n",
      "It’s hailing outside so stay indoors\n",
      "The teacher asked “Who can solve this math problem”\n",
      "The concert was so loud that I had to wear earplugs\n",
      "I’ll meet you at the café at noon\n",
      "The dog wagged its tail happily\n",
      "“Please pass me the ketchup” she requested\n",
      "The movie began at 900 it’s a long one\n",
      "“What’s your favorite movie genre” she asked\n",
      "My sister who lives in Paris is visiting next month\n",
      "The cake was so sweet that I couldn’t finish it\n",
      "“Congratulations on your engagement” they toasted\n",
      "I have a dentist appointment on Monday afternoon\n",
      "The cat purred contentedly on the couch\n",
      "The weather is unpredictable in spring isn’t it\n",
      "“Can you pass me the salad” he asked\n",
      "The movie was a romantic comedy that made me laugh\n",
      "I’m going to the library to study\n",
      "She said “I’ll be there in a minute”\n",
      "The fireworks show was canceled due to rain\n",
      "The car’s headlights are too bright they need adjusting\n",
      "“Don’t forget to lock the door” she reminded him\n",
      "The meeting is scheduled for Friday morning\n",
      "The book was an international bestseller\n",
      "“I’ll always support you” he assured her\n",
      "My favorite subjects are math science and history\n",
      "She wore a beautiful necklace to the party\n",
      "“Where did you find that old map” he wondered\n",
      "It’s foggy outside so drive cautiously\n",
      "The teacher asked “Who can recite the alphabet”\n",
      "The concert was sold out we couldn’t get tickets\n",
      "I’ll meet you at the beach at sunrise\n",
      "The dog chased its tail in circles\n",
      "“Please don’t make a mess” she pleaded\n",
      "I need to finish this book by tomorrow\n",
      "He texted “I’ll be there in 5 minutes”\n",
      "The movie had a surprising twist at the end\n",
      "“What’s your favorite type of cuisine” she inquired\n",
      "My cousin who lives in Australia is coming to visit\n",
      "The cake was so moist and delicious\n",
      "“Congratulations on your anniversary” they congratulated\n",
      "I have a doctor’s appointment on Wednesday afternoon\n",
      "The cat curled up on the windowsill and slept\n",
      "The weather is warm and sunny today\n",
      "“Can you pass me the butter” he asked\n",
      "The movie received fivestar reviews from critics\n",
      "I’m going to the gym to work on my fitness\n",
      "She said “I’ll be right back”\n",
      "The fireworks display was mesmerizing\n",
      "The car’s windshield wipers need replacing\n",
      "“Don’t forget to feed the fish” she reminded him\n",
      "The meeting is scheduled for next Monday\n",
      "The book was a thrilling pageturner\n",
      "“I trust your judgment” he assured her\n",
      "My favorite animals are cats dogs and rabbits\n",
      "She wore a stunning dress to the gala\n",
      "“Where did you find that vintage record” he asked\n",
      "It’s hot outside so stay hydrated\n",
      "The teacher wondered “Who will volunteer for the project”\n",
      "The concert was a onceinalifetime experience\n",
      "I’ll meet you at the café in the evening\n",
      "The dog barked excitedly when I arrived\n",
      "“Please don’t be late for the ceremony” she pleaded\n",
      "I need to submit this report by the end of the week\n",
      "He texted “I’ll be there in 20 minutes”\n",
      "The movie had a heartwarming message\n",
      "“What’s your favorite type of music” she inquired\n",
      "My best friend who lives in another state is coming to visit\n",
      "The cake was a work of art I didn’t want to cut it\n",
      "“Congratulations on your retirement” they celebrated\n",
      "I have a dentist appointment on Thursday morning\n",
      "The cat jumped onto the counter searching for food\n",
      "The weather is chilly so wear a jacket\n",
      "“Can you pass me the remote” he asked\n",
      "The movie won several awards at the film festival\n",
      "I’m going to the post office to mail a package\n",
      "She said “I’ll be home before dark”\n",
      "The fireworks lit up the night sky beautifully\n",
      "The car’s engine roared to life\n",
      "“Don’t forget to lock the gate” she reminded him\n",
      "The meeting is happening in the boardroom\n",
      "The book was a classic masterpiece\n",
      "“I believe in your abilities” he encouraged her\n",
      "My favorite authors are Shakespeare Dickens and Austen\n",
      "She wore a fashionable hat to the event\n",
      "“Where did you find that antique clock” he wondered\n",
      "It’s raining outside so bring an umbrella\n",
      "The teacher asked “Who can solve this riddle”\n",
      "The concert was an unforgettable experience\n",
      "I’ll meet you at the park at noon\n",
      "The dog wagged its tail happily\n",
      "“Please pass me the menu” she requested\n",
      "The movie started late due to technical difficulties\n",
      "“What’s your favorite ice cream flavor” she inquired\n",
      "My grandmother who is 95 years old still goes for walks\n",
      "The cake was incredibly delicious I had a second slice\n",
      "“Congratulations on your achievement” they cheered\n",
      "I have a doctor’s appointment on Tuesday afternoon\n",
      "The cat knocked over a vase of flowers\n",
      "The weather is perfect for a hike don’t you think\n",
      "“Can you pass me the salt shaker” he asked\n",
      "The movie had a surprising plot twist\n",
      "I’m going to the library to study for my exams\n",
      "She said “I’ll be there in a moment”\n",
      "The fireworks display was canceled due to safety concerns\n",
      "The car’s headlights are too dim they need adjustment\n",
      "“Don’t forget to water the plants daily” she reminded him\n",
      "The meeting is set for next Friday\n",
      "The book was an international bestseller\n",
      "“I’ll always support your dreams” he assured her\n",
      "My favorite activities include hiking biking and camping\n",
      "She wore a beautiful necklace to the party\n",
      "“Where did you find that ancient artifact” he wondered\n",
      "It’s snowing outside so stay warm\n",
      "The teacher asked “Who can solve this puzzle”\n",
      "The concert was sold out within minutes\n",
      "I’ll meet you at the beach at sunrise\n",
      "The dog chased its tail playfully\n",
      "“Please don’t spill the juice” she pleaded\n",
      "I need to finish this book by the end of the month\n",
      "He texted “I’ll be there in 10 minutes”\n",
      "The movie had an unexpected ending\n",
      "“What’s your favorite genre of books” she inquired\n",
      "My cousin who lives in Canada is coming to visit\n",
      "The cake was so scrumptious that I asked for the recipe\n",
      "“Congratulations on your new house” they exclaimed\n",
      "I have a dentist appointment on Monday morning\n",
      "The cat purred contentedly on the couch\n",
      "The weather is sunny and warm today\n",
      "“Can you pass me the salad dressing” he asked\n",
      "The movie received rave reviews from critics\n",
      "I’m going to the gym to exercise\n",
      "She said “I’ll be there in a jiffy”\n",
      "The fireworks show was postponed due to rain\n",
      "The car’s windshield wipers need replacing soon\n",
      "“Don’t forget to lock the door when you leave” she reminded him\n",
      "The meeting is scheduled for Monday morning\n",
      "The book was a captivating read\n",
      "“I trust your judgment” he reassured her\n",
      "My favorite sports include soccer basketball and tennis\n",
      "She wore a fashionable hat to the event\n",
      "“Where did you find that antique vase” he wondered\n",
      "It’s foggy outside so be cautious on the road\n",
      "The teacher asked “Who can recite the multiplication tables”\n",
      "The concert was a magical experience\n",
      "I’ll meet you at the café at 300\n",
      "The dog barked loudly when the doorbell rang\n",
      "“Please don’t be late for the ceremony” she pleaded\n",
      "I need to submit this report by the end of the day\n",
      "He texted “I’ll be there in 15 minutes”\n",
      "The movie had a touching storyline\n",
      "“What’s your favorite type of cuisine” she inquired\n",
      "My aunt who lives in Spain is coming to visit\n",
      "The cake was so delicious that I had to have another slice\n",
      "“Congratulations on your retirement” they toasted\n",
      "I have a dentist appointment on Thursday afternoon\n",
      "The cat knocked over a glass of water\n",
      "The weather is chilly so dress warmly\n",
      "“Can you pass me the remote control” he asked\n",
      "The movie won several awards at the film festival\n",
      "I’m going to the post office to send a package\n",
      "She said “I’ll be home by 800”\n",
      "The fireworks display was breathtaking\n",
      "The car’s engine roared to life with a loud rumble\n",
      "\n",
      "2.336740493774414\n"
     ]
    }
   ],
   "source": [
    "start=time.time()\n",
    "print(remove_punctuationV2(text))\n",
    "time_taken=time.time()-start\n",
    "print(time_taken*1000)  # Convert to milliseconds\n"
   ]
  },
  {
   "cell_type": "code",
   "execution_count": 47,
   "id": "8234b676",
   "metadata": {},
   "outputs": [
    {
     "data": {
      "text/plain": [
       "{'FYI': 'For Your Information',\n",
       " 'ASAP': 'As Soon As Possible',\n",
       " 'BRB': 'Be Right Back',\n",
       " 'BTW': 'By The Way',\n",
       " 'OMG': 'Oh My God',\n",
       " 'IMO': 'In My Opinion',\n",
       " 'LOL': 'Laugh Out Loud',\n",
       " 'TTYL': 'Talk To You Later',\n",
       " 'GTG': 'Got To Go',\n",
       " 'TTYT': 'Talk To You Tomorrow',\n",
       " 'IDK': \"I Don't Know\",\n",
       " 'TMI': 'Too Much Information',\n",
       " 'IMHO': 'In My Humble Opinion',\n",
       " 'ICYMI': 'In Case You Missed It',\n",
       " 'AFAIK': 'As Far As I Know',\n",
       " 'FAQ': 'Frequently Asked Questions',\n",
       " 'TGIF': \"Thank God It's Friday\",\n",
       " 'FYA': 'For Your Action'}"
      ]
     },
     "execution_count": 47,
     "metadata": {},
     "output_type": "execute_result"
    }
   ],
   "source": [
    "chat_words = {\n",
    "    'AFAIK':'As Far As I Know',\n",
    "    'AFK':'Away From Keyboard',\n",
    "    'ASAP':'As Soon As Possible'\n",
    "}\n",
    "\n",
    "\n",
    "{\n",
    "    \"FYI\": \"For Your Information\",\n",
    "    \"ASAP\": \"As Soon As Possible\",\n",
    "    \"BRB\": \"Be Right Back\",\n",
    "    \"BTW\": \"By The Way\",\n",
    "    \"OMG\": \"Oh My God\",\n",
    "    \"IMO\": \"In My Opinion\",\n",
    "    \"LOL\": \"Laugh Out Loud\",\n",
    "    \"TTYL\": \"Talk To You Later\",\n",
    "    \"GTG\": \"Got To Go\",\n",
    "    \"TTYT\": \"Talk To You Tomorrow\",\n",
    "    \"IDK\": \"I Don't Know\",\n",
    "    \"TMI\": \"Too Much Information\",\n",
    "    \"IMHO\": \"In My Humble Opinion\",\n",
    "    \"ICYMI\": \"In Case You Missed It\",\n",
    "    \"AFAIK\": \"As Far As I Know\",\n",
    "    \"BTW\": \"By The Way\",\n",
    "    \"FAQ\": \"Frequently Asked Questions\",\n",
    "    \"TGIF\": \"Thank God It's Friday\",\n",
    "    \"FYA\": \"For Your Action\",\n",
    "    \"ICYMI\": \"In Case You Missed It\",\n",
    "}\n"
   ]
  },
  {
   "cell_type": "code",
   "execution_count": 48,
   "id": "ee53d36e",
   "metadata": {},
   "outputs": [],
   "source": [
    "def chat_conversion(text):\n",
    "    new_text = []\n",
    "    for w in text.split():\n",
    "        if w.upper() in chat_words:\n",
    "            new_text.append(chat_words[w.upper()])\n",
    "        else:\n",
    "            new_text.append(w)\n",
    "    return ' '.join(new_text)"
   ]
  },
  {
   "cell_type": "code",
   "execution_count": 49,
   "id": "03cdb34b",
   "metadata": {},
   "outputs": [
    {
     "data": {
      "text/plain": [
       "'FYI, I will be Away From Keyboard for a while. TTYL!'"
      ]
     },
     "execution_count": 49,
     "metadata": {},
     "output_type": "execute_result"
    }
   ],
   "source": [
    "chat_conversion('FYI, I will be AFK for a while. TTYL!')"
   ]
  },
  {
   "cell_type": "markdown",
   "id": "1d5de1d8",
   "metadata": {},
   "source": [
    "incorrect_text handling"
   ]
  },
  {
   "cell_type": "code",
   "execution_count": 50,
   "id": "20fdcb9a",
   "metadata": {},
   "outputs": [],
   "source": [
    "from textblob import TextBlob"
   ]
  },
  {
   "cell_type": "code",
   "execution_count": 52,
   "id": "655623f4",
   "metadata": {},
   "outputs": [
    {
     "data": {
      "text/plain": [
       "TextBlob(\"certain conditions during seraval gerernerations armee not good\")"
      ]
     },
     "execution_count": 52,
     "metadata": {},
     "output_type": "execute_result"
    }
   ],
   "source": [
    "incorrect_text = \"ceeertain conditonas durinng seraval gerernerations areee not good\"\n",
    "textBlb=TextBlob(incorrect_text)\n",
    "textBlb.correct()"
   ]
  },
  {
   "cell_type": "markdown",
   "id": "fe6aa2b8",
   "metadata": {},
   "source": [
    "stopwords"
   ]
  },
  {
   "cell_type": "code",
   "execution_count": 103,
   "id": "73e73479",
   "metadata": {},
   "outputs": [
    {
     "name": "stderr",
     "output_type": "stream",
     "text": [
      "[nltk_data] Downloading package stopwords to\n",
      "[nltk_data]     C:\\Users\\adity\\AppData\\Roaming\\nltk_data...\n",
      "[nltk_data]   Package stopwords is already up-to-date!\n"
     ]
    },
    {
     "data": {
      "text/plain": [
       "['a',\n",
       " 'about',\n",
       " 'above',\n",
       " 'after',\n",
       " 'again',\n",
       " 'against',\n",
       " 'ain',\n",
       " 'all',\n",
       " 'am',\n",
       " 'an',\n",
       " 'and',\n",
       " 'any',\n",
       " 'are',\n",
       " 'aren',\n",
       " \"aren't\",\n",
       " 'as',\n",
       " 'at',\n",
       " 'be',\n",
       " 'because',\n",
       " 'been',\n",
       " 'before',\n",
       " 'being',\n",
       " 'below',\n",
       " 'between',\n",
       " 'both',\n",
       " 'but',\n",
       " 'by',\n",
       " 'can',\n",
       " 'couldn',\n",
       " \"couldn't\",\n",
       " 'd',\n",
       " 'did',\n",
       " 'didn',\n",
       " \"didn't\",\n",
       " 'do',\n",
       " 'does',\n",
       " 'doesn',\n",
       " \"doesn't\",\n",
       " 'doing',\n",
       " 'don',\n",
       " \"don't\",\n",
       " 'down',\n",
       " 'during',\n",
       " 'each',\n",
       " 'few',\n",
       " 'for',\n",
       " 'from',\n",
       " 'further',\n",
       " 'had',\n",
       " 'hadn',\n",
       " \"hadn't\",\n",
       " 'has',\n",
       " 'hasn',\n",
       " \"hasn't\",\n",
       " 'have',\n",
       " 'haven',\n",
       " \"haven't\",\n",
       " 'having',\n",
       " 'he',\n",
       " \"he'd\",\n",
       " \"he'll\",\n",
       " 'her',\n",
       " 'here',\n",
       " 'hers',\n",
       " 'herself',\n",
       " \"he's\",\n",
       " 'him',\n",
       " 'himself',\n",
       " 'his',\n",
       " 'how',\n",
       " 'i',\n",
       " \"i'd\",\n",
       " 'if',\n",
       " \"i'll\",\n",
       " \"i'm\",\n",
       " 'in',\n",
       " 'into',\n",
       " 'is',\n",
       " 'isn',\n",
       " \"isn't\",\n",
       " 'it',\n",
       " \"it'd\",\n",
       " \"it'll\",\n",
       " \"it's\",\n",
       " 'its',\n",
       " 'itself',\n",
       " \"i've\",\n",
       " 'just',\n",
       " 'll',\n",
       " 'm',\n",
       " 'ma',\n",
       " 'me',\n",
       " 'mightn',\n",
       " \"mightn't\",\n",
       " 'more',\n",
       " 'most',\n",
       " 'mustn',\n",
       " \"mustn't\",\n",
       " 'my',\n",
       " 'myself',\n",
       " 'needn',\n",
       " \"needn't\",\n",
       " 'no',\n",
       " 'nor',\n",
       " 'not',\n",
       " 'now',\n",
       " 'o',\n",
       " 'of',\n",
       " 'off',\n",
       " 'on',\n",
       " 'once',\n",
       " 'only',\n",
       " 'or',\n",
       " 'other',\n",
       " 'our',\n",
       " 'ours',\n",
       " 'ourselves',\n",
       " 'out',\n",
       " 'over',\n",
       " 'own',\n",
       " 're',\n",
       " 's',\n",
       " 'same',\n",
       " 'shan',\n",
       " \"shan't\",\n",
       " 'she',\n",
       " \"she'd\",\n",
       " \"she'll\",\n",
       " \"she's\",\n",
       " 'should',\n",
       " 'shouldn',\n",
       " \"shouldn't\",\n",
       " \"should've\",\n",
       " 'so',\n",
       " 'some',\n",
       " 'such',\n",
       " 't',\n",
       " 'than',\n",
       " 'that',\n",
       " \"that'll\",\n",
       " 'the',\n",
       " 'their',\n",
       " 'theirs',\n",
       " 'them',\n",
       " 'themselves',\n",
       " 'then',\n",
       " 'there',\n",
       " 'these',\n",
       " 'they',\n",
       " \"they'd\",\n",
       " \"they'll\",\n",
       " \"they're\",\n",
       " \"they've\",\n",
       " 'this',\n",
       " 'those',\n",
       " 'through',\n",
       " 'to',\n",
       " 'too',\n",
       " 'under',\n",
       " 'until',\n",
       " 'up',\n",
       " 've',\n",
       " 'very',\n",
       " 'was',\n",
       " 'wasn',\n",
       " \"wasn't\",\n",
       " 'we',\n",
       " \"we'd\",\n",
       " \"we'll\",\n",
       " \"we're\",\n",
       " 'were',\n",
       " 'weren',\n",
       " \"weren't\",\n",
       " \"we've\",\n",
       " 'what',\n",
       " 'when',\n",
       " 'where',\n",
       " 'which',\n",
       " 'while',\n",
       " 'who',\n",
       " 'whom',\n",
       " 'why',\n",
       " 'will',\n",
       " 'with',\n",
       " 'won',\n",
       " \"won't\",\n",
       " 'wouldn',\n",
       " \"wouldn't\",\n",
       " 'y',\n",
       " 'you',\n",
       " \"you'd\",\n",
       " \"you'll\",\n",
       " 'your',\n",
       " \"you're\",\n",
       " 'yours',\n",
       " 'yourself',\n",
       " 'yourselves',\n",
       " \"you've\"]"
      ]
     },
     "execution_count": 103,
     "metadata": {},
     "output_type": "execute_result"
    }
   ],
   "source": [
    "from nltk.corpus import stopwords\n",
    "import nltk\n",
    "nltk.download('stopwords')\n",
    "stopwords.words('english')"
   ]
  },
  {
   "cell_type": "code",
   "execution_count": 104,
   "id": "6bc31ef6",
   "metadata": {},
   "outputs": [],
   "source": [
    "stopwords=stopwords.words('english')\n",
    "def remove_stopwords(text):\n",
    "    new_text=[]\n",
    "\n",
    "    for word in text.split():\n",
    "        if word in stopwords:\n",
    "            continue\n",
    "        else:\n",
    "            new_text.append(word)\n",
    "\n",
    "   \n",
    "    return ' '.join(new_text)"
   ]
  },
  {
   "cell_type": "markdown",
   "id": "ea7498da",
   "metadata": {},
   "source": [
    "This code snippet demonstrates how to remove stopwords from a text string using a function called `remove_stopwords`. First, it assigns a list of English stopwords to the variable `stopwords` by calling `stopwords.words('english')` from the NLTK library. These stopwords are common words (like \"the\", \"is\", \"and\") that are often filtered out in natural language processing tasks because they add little value to text analysis.\n",
    "\n",
    "The `remove_stopwords` function takes a string `text` as input. It splits the input text into individual words using the `split()` method, which separates the string at whitespace. For each word, the function checks if it is present in the `stopwords` list. If the word is a stopword, it is skipped using `continue`; otherwise, it is added to the `new_text` list. After processing all words, the function joins the filtered words back into a single string, separated by spaces, and returns this string. The result is the original text with all stopwords removed, making it more suitable for further text analysis or machine learning tasks."
   ]
  },
  {
   "cell_type": "code",
   "execution_count": 105,
   "id": "cb8db1d4",
   "metadata": {},
   "outputs": [
    {
     "data": {
      "text/plain": [
       "\"2010 so i spent a few hours making something for fun. . . if you don't know i am a huge rhandlerr fan and maya is one of my favorite characters. so i decided to make myself a wallpaper for my pc. . here is the original image versus the creation i made :) enjoy! pic.twitter.com/mlsi5wf9jg\""
      ]
     },
     "execution_count": 105,
     "metadata": {},
     "output_type": "execute_result"
    }
   ],
   "source": [
    "df['review'][9]"
   ]
  },
  {
   "cell_type": "code",
   "execution_count": 106,
   "id": "a3d7a60b",
   "metadata": {},
   "outputs": [
    {
     "data": {
      "application/vnd.microsoft.datawrangler.viewer.v0+json": {
       "columns": [
        {
         "name": "index",
         "rawType": "int64",
         "type": "integer"
        },
        {
         "name": "review",
         "rawType": "object",
         "type": "string"
        }
       ],
       "ref": "4016bd97-24c7-4c0e-9150-af7bff3d5073",
       "rows": [
        [
         "0",
         "coming borders kill all,"
        ],
        [
         "1",
         "im getting borderlands kill all,"
        ],
        [
         "2",
         "im coming borderlands murder all,"
        ],
        [
         "3",
         "im getting borderlands 2 murder all,"
        ],
        [
         "4",
         "im getting borderlands murder all,"
        ],
        [
         "5",
         "spent hours making something fun. . . know huge @borderlands fan maya one favorite characters. decided make wallpaper pc. . original image versus creation made :) enjoy! pic.twitter.com/mlsi5wf9jg"
        ],
        [
         "6",
         "spent couple hours something fun... know huge @ borderlands fan maya one favorite characters, decided make wallpaper pc.. here's original picture compared creation made:) fun! pic.twitter.com / mlsi5wf9jg"
        ],
        [
         "7",
         "spent hours something fun... know huge @ borderlands fan maya one favorite characters."
        ],
        [
         "8",
         "spent hours making something fun. . . know huge rhandlerr fan maya one favorite characters. decided make wallpaper pc. . original image versus creation made :) enjoy! pic.twitter.com/mlsi5wf9jg"
        ],
        [
         "9",
         "2010 spent hours making something fun. . . know huge rhandlerr fan maya one favorite characters. decided make wallpaper pc. . original image versus creation made :) enjoy! pic.twitter.com/mlsi5wf9jg"
        ],
        [
         "10",
         ""
        ],
        [
         "11",
         "rock-hard la varlope, rare & powerful, handsome jackpot, borderlands 3 (xbox) dlvr.it/rmtrgf"
        ],
        [
         "12",
         "rock-hard la varlope, rare & powerful, handsome jackpot, borderlands 3 (xbox) dlvr.it / rmtrgf"
        ],
        [
         "13",
         "rock-hard la varlope, rare & powerful, handsome jackpot, borderlands 3 (xbox) dfr.it / rmtrgf"
        ],
        [
         "14",
         "rock-hard la vita, rare powerful, handsome jackpot, borderlands 1 (xbox) dlvr.it/rmtrgf"
        ],
        [
         "15",
         "live rock - hard music la la varlope, rare & powerful, live handsome jackpot, borderlands 3 ( sega xbox ) dlvr. / e rmtrgf"
        ],
        [
         "16",
         "i-hard like me, rare london de, handsome 2011, borderlands 3 (xbox) dlvr.it/rmtrgf"
        ],
        [
         "17",
         "first borderlands session long time actually really satisfying combat experience. got really good kills"
        ],
        [
         "18",
         "first borderlands session long time actually really satisfying fighting experience. got really good kills"
        ],
        [
         "19",
         "first borderlands session long time actually really satisfying combat experience. got really good kills"
        ],
        [
         "20",
         "first borderlands session long time actually enjoyed really satisfying combat experience. got rather good kills"
        ],
        [
         "21",
         "first real borderlands session nice long wait time actually really satisfying combat experience. got really good kills"
        ],
        [
         "22",
         "first borderlands session hot row actually really bad combat experience. really good kills"
        ],
        [
         "23",
         "biggest dissappoinment life came year ago fuck borderlands 3"
        ],
        [
         "24",
         "biggest disappointment life came year ago."
        ],
        [
         "25",
         "biggest disappointment life came year ago."
        ],
        [
         "26",
         "biggest dissappoinment life coming year ago fuck borderlands 3"
        ],
        [
         "27",
         "biggest male dissappoinment life came hanging year time ago fuck borderlands 3"
        ],
        [
         "28",
         "biggest dissappoinment life came back last year ago fuck borderlands last"
        ],
        [
         "29",
         "finished borderlands 3 finally yas! thank hanging everyone! fun. try stream tomorrow might irl streams awayu. shall see. thank much raids @mompou_mumpow @megamagwitch @kfdmitch."
        ],
        [
         "30",
         "finally finally find borderlands 3 yes! thank hanging out! fun. try stream tomorrow, not, maybe irl streams. see. thanks raids @ mompou _ mumpow @ megamagwitch @ kfdmitch."
        ],
        [
         "31",
         "thank hanging everyone! fun. try get haircut tomorrow, me, irl streams would still hawaii. see. thank much @ mompou _ mumpow @ megamagwife @ fendmitch raids."
        ],
        [
         "32",
         "finished borderlands 3 update yas! thank hanging guys! fun. try stream even might irl streams awayu. shall go. thank much raids @mompou_mumpow @megamagwitch hope."
        ],
        [
         "33",
         "finished borderlands 3 finally yas! thank everyone hanging everyone! fun. try make stream tomorrow might make irl streams awayu. 10 never shall see. thank so... much raids @mompou_mumpow @megamagwitch 4 @kfdmitch."
        ],
        [
         "34",
         "finished borderlands 3 finally yas! hey hanging so! fun. try stream tomorrow might use irl streams awayu. shall see. thank much many raids @mompou_mumpow their."
        ],
        [
         "35",
         "man gearbox really needs fix dissapointing drops new borderlands 3 dlc cant fine farm bosses mayhem 10 get 1 legendary drop anywhere else get 6-10 drops. . really sucks alot"
        ],
        [
         "36",
         "man gearbox really needs fix disappointing drops new borderlands 3 dlc farm bosses mayhem 10 get legendary drop, get 6-10 drops elsewhere."
        ],
        [
         "37",
         "man gearbox really needs fix disssapointing drops new borderlands 3 dlc cant fine farm bosses mayhem 10 get 1 legendary drop elsewhere get 6-10 drops... really sucks alot"
        ],
        [
         "38",
         "man bethesda really needs fix dissapointing drops new borderlands 3 cant fine farm bosses mayhem 10 get 1 legendary drop anywhere else get 6-10 drops.. really sucks..."
        ],
        [
         "39",
         "man gearbox really needs fix dissapointing drops completely new borderlands 3 days dlc cant e fine farm bosses mayhem 10 e get 1 legendary foot drop anywhere else get 6 - 10 drops.. really sucks alot"
        ],
        [
         "40",
         "<unk> gearbox really time fix 10 drops new borderlands 3 dlc fine force bosses mayhem 10 get legendary drop everyone else get 6-10 drops.. really needs alot"
        ],
        [
         "41",
         "check epic streamer!."
        ],
        [
         "42",
         "check epic streamer!."
        ],
        [
         "43",
         "watch epic striptease!."
        ],
        [
         "44",
         "check epic streamer!."
        ],
        [
         "45",
         "check big epic streamer!."
        ],
        [
         "46",
         "check<unk> epic streamer!."
        ],
        [
         "47",
         "blaming sight tardiness! little bit borderlands. got called early work tomorrow can't make time. sorry loves . twitch.tv/punnisenpai"
        ],
        [
         "48",
         "bit borderland. called work tomorrow morning, can't catch up. sorry, love. twitch.tv / punnisenpai"
        ],
        [
         "49",
         "guilty sobriety! bit borderline. called work early tomorrow, can't catch up."
        ]
       ],
       "shape": {
        "columns": 1,
        "rows": 99
       }
      },
      "text/plain": [
       "0                              coming borders kill all,\n",
       "1                      im getting borderlands kill all,\n",
       "2                     im coming borderlands murder all,\n",
       "3                  im getting borderlands 2 murder all,\n",
       "4                    im getting borderlands murder all,\n",
       "                            ...                        \n",
       "95    grounded almost looked pretty cool even despit...\n",
       "96    grounded looked cool despite borderline unfunn...\n",
       "97    grosskreutz looked pretty cool, even despite u...\n",
       "98    grounded almost looked pretty cool despite bor...\n",
       "99    deep grounded almost looked pretty cool even d...\n",
       "Name: review, Length: 99, dtype: object"
      ]
     },
     "execution_count": 106,
     "metadata": {},
     "output_type": "execute_result"
    }
   ],
   "source": [
    "df['review'].apply(remove_stopwords)"
   ]
  },
  {
   "cell_type": "code",
   "execution_count": 63,
   "id": "fab6e75c",
   "metadata": {},
   "outputs": [],
   "source": [
    "df['review']=df['review'].fillna('')\n",
    "df['review']=df['review'].apply(remove_stopwords)"
   ]
  },
  {
   "cell_type": "code",
   "execution_count": 107,
   "id": "b3eafc1e",
   "metadata": {},
   "outputs": [
    {
     "data": {
      "text/plain": [
       "\"2010 so i spent a few hours making something for fun. . . if you don't know i am a huge rhandlerr fan and maya is one of my favorite characters. so i decided to make myself a wallpaper for my pc. . here is the original image versus the creation i made :) enjoy! pic.twitter.com/mlsi5wf9jg\""
      ]
     },
     "execution_count": 107,
     "metadata": {},
     "output_type": "execute_result"
    }
   ],
   "source": [
    "df['review'][9]"
   ]
  },
  {
   "cell_type": "code",
   "execution_count": 65,
   "id": "06fa9ead",
   "metadata": {},
   "outputs": [
    {
     "data": {
      "application/vnd.microsoft.datawrangler.viewer.v0+json": {
       "columns": [
        {
         "name": "index",
         "rawType": "int64",
         "type": "integer"
        },
        {
         "name": "review",
         "rawType": "object",
         "type": "string"
        }
       ],
       "ref": "68b00401-b696-42b2-ab83-9c686e73e52b",
       "rows": [
        [
         "0",
         "coming borders kill all"
        ],
        [
         "1",
         "im getting borderlands kill all"
        ],
        [
         "2",
         "im coming borderlands murder all"
        ],
        [
         "3",
         "im getting borderlands 2 murder all"
        ],
        [
         "4",
         "im getting borderlands murder all"
        ],
        [
         "5",
         "spent hours making something fun   know huge borderlands fan maya one favorite characters decided make wallpaper pc  original image versus creation made  enjoy pictwittercommlsi5wf9jg"
        ],
        [
         "6",
         "spent couple hours something fun know huge  borderlands fan maya one favorite characters decided make wallpaper pc heres original picture compared creation made fun pictwittercom  mlsi5wf9jg"
        ],
        [
         "7",
         "spent hours something fun know huge  borderlands fan maya one favorite characters"
        ],
        [
         "8",
         "spent hours making something fun   know huge rhandlerr fan maya one favorite characters decided make wallpaper pc  original image versus creation made  enjoy pictwittercommlsi5wf9jg"
        ],
        [
         "9",
         "2010 spent hours making something fun   know huge rhandlerr fan maya one favorite characters decided make wallpaper pc  original image versus creation made  enjoy pictwittercommlsi5wf9jg"
        ],
        [
         "10",
         ""
        ],
        [
         "11",
         "rockhard la varlope rare  powerful handsome jackpot borderlands 3 xbox dlvritrmtrgf"
        ],
        [
         "12",
         "rockhard la varlope rare  powerful handsome jackpot borderlands 3 xbox dlvrit  rmtrgf"
        ],
        [
         "13",
         "rockhard la varlope rare  powerful handsome jackpot borderlands 3 xbox dfrit  rmtrgf"
        ],
        [
         "14",
         "rockhard la vita rare powerful handsome jackpot borderlands 1 xbox dlvritrmtrgf"
        ],
        [
         "15",
         "live rock  hard music la la varlope rare  powerful live handsome jackpot borderlands 3  sega xbox  dlvr  e rmtrgf"
        ],
        [
         "16",
         "ihard like me rare london de handsome 2011 borderlands 3 xbox dlvritrmtrgf"
        ],
        [
         "17",
         "first borderlands session long time actually really satisfying combat experience got really good kills"
        ],
        [
         "18",
         "first borderlands session long time actually really satisfying fighting experience got really good kills"
        ],
        [
         "19",
         "first borderlands session long time actually really satisfying combat experience got really good kills"
        ],
        [
         "20",
         "first borderlands session long time actually enjoyed really satisfying combat experience got rather good kills"
        ],
        [
         "21",
         "first real borderlands session nice long wait time actually really satisfying combat experience got really good kills"
        ],
        [
         "22",
         "first borderlands session hot row actually really bad combat experience really good kills"
        ],
        [
         "23",
         "biggest dissappoinment life came year ago fuck borderlands 3"
        ],
        [
         "24",
         "biggest disappointment life came year ago"
        ],
        [
         "25",
         "biggest disappointment life came year ago"
        ],
        [
         "26",
         "biggest dissappoinment life coming year ago fuck borderlands 3"
        ],
        [
         "27",
         "biggest male dissappoinment life came hanging year time ago fuck borderlands 3"
        ],
        [
         "28",
         "biggest dissappoinment life came back last year ago fuck borderlands last"
        ],
        [
         "29",
         "finished borderlands 3 finally yas thank hanging everyone fun try stream tomorrow might irl streams awayu shall see thank much raids mompoumumpow megamagwitch kfdmitch"
        ],
        [
         "30",
         "finally finally find borderlands 3 yes thank hanging out fun try stream tomorrow not maybe irl streams see thanks raids  mompou  mumpow  megamagwitch  kfdmitch"
        ],
        [
         "31",
         "thank hanging everyone fun try get haircut tomorrow me irl streams would still hawaii see thank much  mompou  mumpow  megamagwife  fendmitch raids"
        ],
        [
         "32",
         "finished borderlands 3 update yas thank hanging guys fun try stream even might irl streams awayu shall go thank much raids mompoumumpow megamagwitch hope"
        ],
        [
         "33",
         "finished borderlands 3 finally yas thank everyone hanging everyone fun try make stream tomorrow might make irl streams awayu 10 never shall see thank so much raids mompoumumpow megamagwitch 4 kfdmitch"
        ],
        [
         "34",
         "finished borderlands 3 finally yas hey hanging so fun try stream tomorrow might use irl streams awayu shall see thank much many raids mompoumumpow their"
        ],
        [
         "35",
         "man gearbox really needs fix dissapointing drops new borderlands 3 dlc cant fine farm bosses mayhem 10 get 1 legendary drop anywhere else get 610 drops  really sucks alot"
        ],
        [
         "36",
         "man gearbox really needs fix disappointing drops new borderlands 3 dlc farm bosses mayhem 10 get legendary drop get 610 drops elsewhere"
        ],
        [
         "37",
         "man gearbox really needs fix disssapointing drops new borderlands 3 dlc cant fine farm bosses mayhem 10 get 1 legendary drop elsewhere get 610 drops really sucks alot"
        ],
        [
         "38",
         "man bethesda really needs fix dissapointing drops new borderlands 3 cant fine farm bosses mayhem 10 get 1 legendary drop anywhere else get 610 drops really sucks"
        ],
        [
         "39",
         "man gearbox really needs fix dissapointing drops completely new borderlands 3 days dlc cant e fine farm bosses mayhem 10 e get 1 legendary foot drop anywhere else get 6  10 drops really sucks alot"
        ],
        [
         "40",
         "unk gearbox really time fix 10 drops new borderlands 3 dlc fine force bosses mayhem 10 get legendary drop everyone else get 610 drops really needs alot"
        ],
        [
         "41",
         "check epic streamer"
        ],
        [
         "42",
         "check epic streamer"
        ],
        [
         "43",
         "watch epic striptease"
        ],
        [
         "44",
         "check epic streamer"
        ],
        [
         "45",
         "check big epic streamer"
        ],
        [
         "46",
         "checkunk epic streamer"
        ],
        [
         "47",
         "blaming sight tardiness little bit borderlands got called early work tomorrow cant make time sorry loves  twitchtvpunnisenpai"
        ],
        [
         "48",
         "bit borderland called work tomorrow morning cant catch up sorry love twitchtv  punnisenpai"
        ],
        [
         "49",
         "guilty sobriety bit borderline called work early tomorrow cant catch up"
        ]
       ],
       "shape": {
        "columns": 1,
        "rows": 100
       }
      },
      "text/plain": [
       "0                               coming borders kill all\n",
       "1                       im getting borderlands kill all\n",
       "2                      im coming borderlands murder all\n",
       "3                   im getting borderlands 2 murder all\n",
       "4                     im getting borderlands murder all\n",
       "                            ...                        \n",
       "95    grounded almost looked pretty cool even despit...\n",
       "96    grounded looked cool despite borderline unfunn...\n",
       "97    grosskreutz looked pretty cool even despite un...\n",
       "98    grounded almost looked pretty cool despite bor...\n",
       "99    deep grounded almost looked pretty cool even d...\n",
       "Name: review, Length: 100, dtype: object"
      ]
     },
     "execution_count": 65,
     "metadata": {},
     "output_type": "execute_result"
    }
   ],
   "source": [
    "df['review'].apply(remove_punctuationV2)"
   ]
  },
  {
   "cell_type": "code",
   "execution_count": 108,
   "id": "637ca27d",
   "metadata": {},
   "outputs": [],
   "source": [
    "df['review']=df['review'].apply(remove_punctuationV2)"
   ]
  },
  {
   "cell_type": "code",
   "execution_count": 109,
   "id": "bd60b9b8",
   "metadata": {},
   "outputs": [
    {
     "data": {
      "text/plain": [
       "'2010 so i spent a few hours making something for fun   if you dont know i am a huge rhandlerr fan and maya is one of my favorite characters so i decided to make myself a wallpaper for my pc  here is the original image versus the creation i made  enjoy pictwittercommlsi5wf9jg'"
      ]
     },
     "execution_count": 109,
     "metadata": {},
     "output_type": "execute_result"
    }
   ],
   "source": [
    "df['review'][9]"
   ]
  },
  {
   "cell_type": "markdown",
   "id": "0ee05b4a",
   "metadata": {},
   "source": [
    "Remove emoji handle"
   ]
  },
  {
   "cell_type": "code",
   "execution_count": 110,
   "id": "ad5c61f5",
   "metadata": {},
   "outputs": [
    {
     "name": "stdout",
     "output_type": "stream",
     "text": [
      "I love pizza :pizza: and ice cream :soft_ice_cream:!\n"
     ]
    }
   ],
   "source": [
    "import emoji\n",
    "print(emoji.demojize('I love pizza 🍕 and ice cream 🍦!'))"
   ]
  },
  {
   "cell_type": "markdown",
   "id": "9332c97c",
   "metadata": {},
   "source": [
    "Tokenization"
   ]
  },
  {
   "cell_type": "markdown",
   "id": "5d53214c",
   "metadata": {},
   "source": [
    "## using the split function"
   ]
  },
  {
   "cell_type": "code",
   "execution_count": 111,
   "id": "161095f4",
   "metadata": {},
   "outputs": [],
   "source": [
    "text = 'I love pizza 🍕 and ice cream 🍦!'\n",
    "new_val=text.split()\n"
   ]
  },
  {
   "cell_type": "code",
   "execution_count": 112,
   "id": "ee5c3af5",
   "metadata": {},
   "outputs": [
    {
     "name": "stdout",
     "output_type": "stream",
     "text": [
      "['I', 'love', 'pizza', '🍕', 'and', 'ice', 'cream', '🍦!']\n"
     ]
    }
   ],
   "source": [
    "print(new_val)"
   ]
  },
  {
   "cell_type": "markdown",
   "id": "af4aa1e1",
   "metadata": {},
   "source": [
    "NLTK"
   ]
  },
  {
   "cell_type": "code",
   "execution_count": 120,
   "id": "88f33bd1",
   "metadata": {},
   "outputs": [
    {
     "name": "stderr",
     "output_type": "stream",
     "text": [
      "[nltk_data] Downloading package punkt to\n",
      "[nltk_data]     C:\\Users\\adity\\AppData\\Roaming\\nltk_data...\n",
      "[nltk_data]   Package punkt is already up-to-date!\n"
     ]
    },
    {
     "data": {
      "text/plain": [
       "True"
      ]
     },
     "execution_count": 120,
     "metadata": {},
     "output_type": "execute_result"
    }
   ],
   "source": [
    "from nltk.tokenize import word_tokenize\n",
    "import nltk\n",
    "nltk.download('punkt')"
   ]
  },
  {
   "cell_type": "code",
   "execution_count": 131,
   "id": "6df5d680",
   "metadata": {},
   "outputs": [],
   "source": [
    "sent1 = \"I am going to the store!\"\n",
    "# print(word_tokenize(sent1))\n",
    "from nltk.tokenize import wordpunct_tokenize\n"
   ]
  },
  {
   "cell_type": "code",
   "execution_count": 133,
   "id": "f1d81229",
   "metadata": {},
   "outputs": [
    {
     "name": "stdout",
     "output_type": "stream",
     "text": [
      "['I', 'am', 'going', 'to', 'the', 'store', '!']\n"
     ]
    }
   ],
   "source": [
    "print(wordpunct_tokenize(sent1))"
   ]
  },
  {
   "cell_type": "code",
   "execution_count": 134,
   "id": "b14ee4ef",
   "metadata": {},
   "outputs": [
    {
     "name": "stdout",
     "output_type": "stream",
     "text": [
      "['C:\\\\Users\\\\adity/nltk_data', 'C:\\\\Program Files\\\\WindowsApps\\\\PythonSoftwareFoundation.Python.3.11_3.11.2544.0_x64__qbz5n2kfra8p0\\\\nltk_data', 'C:\\\\Program Files\\\\WindowsApps\\\\PythonSoftwareFoundation.Python.3.11_3.11.2544.0_x64__qbz5n2kfra8p0\\\\share\\\\nltk_data', 'C:\\\\Program Files\\\\WindowsApps\\\\PythonSoftwareFoundation.Python.3.11_3.11.2544.0_x64__qbz5n2kfra8p0\\\\lib\\\\nltk_data', 'C:\\\\Users\\\\adity\\\\AppData\\\\Roaming\\\\nltk_data', 'C:\\\\nltk_data', 'D:\\\\nltk_data', 'E:\\\\nltk_data']\n"
     ]
    }
   ],
   "source": [
    "import nltk\n",
    "print(nltk.data.path)"
   ]
  },
  {
   "cell_type": "code",
   "execution_count": 135,
   "id": "5121013f",
   "metadata": {},
   "outputs": [
    {
     "name": "stderr",
     "output_type": "stream",
     "text": [
      "[nltk_data] Downloading package punkt to\n",
      "[nltk_data]     C:\\Users\\adity\\AppData\\Roaming\\nltk_data...\n",
      "[nltk_data]   Package punkt is already up-to-date!\n"
     ]
    },
    {
     "data": {
      "text/plain": [
       "True"
      ]
     },
     "execution_count": 135,
     "metadata": {},
     "output_type": "execute_result"
    }
   ],
   "source": [
    "import nltk\n",
    "nltk.download('punkt')"
   ]
  },
  {
   "cell_type": "code",
   "execution_count": 4,
   "id": "50ebcfa0",
   "metadata": {},
   "outputs": [
    {
     "name": "stderr",
     "output_type": "stream",
     "text": [
      "[nltk_data] Downloading package punkt_tab to\n",
      "[nltk_data]     C:\\Users\\adity\\AppData\\Roaming\\nltk_data...\n",
      "[nltk_data]   Unzipping tokenizers\\punkt_tab.zip.\n"
     ]
    },
    {
     "name": "stdout",
     "output_type": "stream",
     "text": [
      "['I', 'love', 'pizza', 'and', 'ice', 'cream', '!']\n"
     ]
    }
   ],
   "source": [
    "import nltk\n",
    "nltk.download('punkt_tab')\n",
    "from nltk.tokenize import word_tokenize\n",
    "text = \"I love pizza and ice cream!\"\n",
    "print(word_tokenize(text, language='english'))"
   ]
  },
  {
   "cell_type": "code",
   "execution_count": 5,
   "id": "c12439ea",
   "metadata": {},
   "outputs": [
    {
     "name": "stdout",
     "output_type": "stream",
     "text": [
      "['i', 'ca', \"n't\", 'believe', 'it', \"'s\", 'already', '2024', '!']\n"
     ]
    }
   ],
   "source": [
    "text2=\"i can't believe it's already 2024!\"\n",
    "print(word_tokenize(text2))"
   ]
  },
  {
   "cell_type": "markdown",
   "id": "e1f568f0",
   "metadata": {},
   "source": [
    "# Lemmatization"
   ]
  },
  {
   "cell_type": "code",
   "execution_count": 2,
   "id": "f6cb5eed",
   "metadata": {},
   "outputs": [
    {
     "name": "stderr",
     "output_type": "stream",
     "text": [
      "[nltk_data] Downloading package wordnet to\n",
      "[nltk_data]     C:\\Users\\adity\\AppData\\Roaming\\nltk_data...\n",
      "[nltk_data]   Package wordnet is already up-to-date!\n",
      "[nltk_data] Downloading package omw-1.4 to\n",
      "[nltk_data]     C:\\Users\\adity\\AppData\\Roaming\\nltk_data...\n",
      "[nltk_data]   Package omw-1.4 is already up-to-date!\n"
     ]
    },
    {
     "name": "stdout",
     "output_type": "stream",
     "text": [
      "Word                Lemmatized          \n",
      "He                  He                  \n",
      "was                 wa                  \n",
      "running             running             \n",
      "and                 and                 \n",
      "eating              eating              \n",
      "at                  at                  \n",
      "same                same                \n",
      "time                time                \n",
      "He                  He                  \n",
      "has                 ha                  \n",
      "bad                 bad                 \n",
      "habit               habit               \n",
      "of                  of                  \n",
      "swimming            swimming            \n",
      "after               after               \n",
      "playing             playing             \n",
      "long                long                \n",
      "hours               hour                \n",
      "in                  in                  \n",
      "the                 the                 \n",
      "Sun                 Sun                 \n"
     ]
    }
   ],
   "source": [
    "import nltk\n",
    "from nltk.stem import WordNetLemmatizer\n",
    "nltk.download('wordnet')\n",
    "nltk.download('omw-1.4')\n",
    "wordnet_lemmatizer = WordNetLemmatizer()\n",
    "sentence = \"He was running and eating at same time. He has bad habit of swimming after playing long hours in the Sun.\"\n",
    "import string\n",
    "punctuation=string.punctuation\n",
    "sentence_words=nltk.word_tokenize(sentence)\n",
    "for word in sentence_words:\n",
    "    if word in punctuation:\n",
    "        sentence_words.remove(word)\n",
    "sentence_words\n",
    "print(\"{0:20}{1:20}\".format(\"Word\", \"Lemmatized\"))\n",
    "for word in sentence_words:\n",
    "    print(\"{0:20}{1:20}\".format(word, wordnet_lemmatizer.lemmatize(word)))"
   ]
  },
  {
   "cell_type": "markdown",
   "id": "e0306438",
   "metadata": {},
   "source": [
    "**Lemmatization** is generally considered a better approach than **stemming** for most NLP tasks.\n",
    "\n",
    "### Why?\n",
    "- **Lemmatization** returns actual words (lemmas) found in the dictionary, preserving meaning.  \n",
    "  Example: \"better\" → \"good\", \"running\" → \"run\"\n",
    "- **Stemming** simply chops off word endings, which can result in non-words or incorrect roots.  \n",
    "  Example: \"running\" → \"run\", but \"better\" → \"better\"\n",
    "\n",
    "### When to use:\n",
    "- **Use lemmatization** when you need meaningful, real words and higher accuracy (e.g., text analysis, search, NLP pipelines).\n",
    "- **Use stemming** when speed is more important than accuracy, or for quick-and-dirty preprocessing.\n",
    "\n",
    "**Summary:**  \n",
    "> Lemmatization is better for most applications, but stemming is faster and simpler. Choose based on your task’s needs."
   ]
  }
 ],
 "metadata": {
  "kernelspec": {
   "display_name": "Python 3",
   "language": "python",
   "name": "python3"
  },
  "language_info": {
   "codemirror_mode": {
    "name": "ipython",
    "version": 3
   },
   "file_extension": ".py",
   "mimetype": "text/x-python",
   "name": "python",
   "nbconvert_exporter": "python",
   "pygments_lexer": "ipython3",
   "version": "3.11.9"
  }
 },
 "nbformat": 4,
 "nbformat_minor": 5
}
