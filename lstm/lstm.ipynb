{
 "cells": [
  {
   "cell_type": "code",
   "execution_count": null,
   "id": "1f9ed220",
   "metadata": {},
   "outputs": [],
   "source": [
    "import numpy as np\n",
    "from sklearn.preprocess import MinMaxScaler\n",
    "from keras.models import Sequential\n",
    "from keras.layers import LSTM, Dense\n",
    "\n",
    "# Assume that you have a dataset with daily closing prices for a stock stored in a NumPy array called data\n",
    "# First, normalize the data using scaler\n",
    "scaler = MinMaxScaler()\n",
    "data = data / np.max(data)\n",
    "\n",
    "# Define the number of timesteps (samples per sequence) and the number of outputs (one-hot encoded labels for target values)\n",
    "timesteps = 60\n",
    "outputs = 1\n",
    "X, y = [], []\n",
    "for i in range(len(data)-timesteps):\n",
    "    X.append(data[i:(i+timesteps), None])\n",
    "    y.append(data[i + timesteps])\n",
    "X = np.array(X)\n",
    "y = np.array(y)\n",
    "\n",
    "# Reshape the data to fit Keras requirements\n",
    "X = np.reshape(X, (X.shape[0], X.shape[1], X.shape[2]))\n",
    "X = scaler.fit_transform(X)\n",
    "\n",
    "# Build and compile the LSTM model\n",
    "model = Sequential()\n",
    "model.add(LSTM(50, return_sequences=True, input_shape=(X.shape[1], 1)))\n",
    "model.add(LSTM(50))\n",
    "model.add(Dense(outputs))\n",
    "model.compile(loss='mean_squared_error', optimizer='adam')\n",
    "\n",
    "# Train the model using the training data\n",
    "model.fit(X, y, epochs=1, batch_size=32)\n"
   ]
  },
  {
   "cell_type": "code",
   "execution_count": 1,
   "id": "abd933b1",
   "metadata": {},
   "outputs": [],
   "source": [
    "import numpy as np\n",
    "from sklearn.preprocessing import MinMaxScaler\n",
    "from keras.models import Sequential\n",
    "from keras.layers import LSTM, Dense"
   ]
  },
  {
   "cell_type": "code",
   "execution_count": 2,
   "id": "a5b27935",
   "metadata": {},
   "outputs": [],
   "source": [
    "key=\"fd5ebaf5f52fc68df1e72fbd16beb1f8cbe8c7d8\""
   ]
  },
  {
   "cell_type": "code",
   "execution_count": 5,
   "id": "b4e05b04",
   "metadata": {},
   "outputs": [],
   "source": [
    "import yfinance as yf\n",
    "ticker = yf.Ticker(\"AAPL\")\n",
    "price = ticker.history(period=\"1d\")['Close']\n",
    "balance_sheet = ticker.balance_sheet"
   ]
  },
  {
   "cell_type": "code",
   "execution_count": 11,
   "id": "0fbce977",
   "metadata": {},
   "outputs": [
    {
     "name": "stderr",
     "output_type": "stream",
     "text": [
      "C:\\Users\\adity\\AppData\\Local\\Temp\\ipykernel_12208\\2930131888.py:4: FutureWarning: YF.download() has changed argument auto_adjust default to True\n",
      "  data = yf.download(\"TCS.NS\", start=\"2001-01-01\", end=\"2025-06-12\")\n",
      "[*********************100%***********************]  1 of 1 completed"
     ]
    },
    {
     "name": "stdout",
     "output_type": "stream",
     "text": [
      "Price           Close       High        Low       Open  Volume\n",
      "Ticker         TCS.NS     TCS.NS     TCS.NS     TCS.NS  TCS.NS\n",
      "Date                                                          \n",
      "2002-08-12  28.240953  28.454361  27.547377  27.547377  212976\n",
      "2002-08-13  27.858589  28.730005  27.654075  28.276514  153576\n",
      "2002-08-14  25.937918  27.920829  25.413288  27.920829  822776\n",
      "2002-08-15  25.937918  25.937918  25.937918  25.937918       0\n",
      "2002-08-16  25.875681  27.031639  25.431082  25.804546  811856\n"
     ]
    },
    {
     "name": "stderr",
     "output_type": "stream",
     "text": [
      "\n"
     ]
    }
   ],
   "source": [
    "import yfinance as yf\n",
    "\n",
    "# Fetch historical data for a stock (e.g., Apple)\n",
    "data = yf.download(\"TCS.NS\", start=\"2001-01-01\", end=\"2025-06-12\")\n",
    "print(data.head())\n"
   ]
  },
  {
   "cell_type": "code",
   "execution_count": 16,
   "id": "ce6d226b",
   "metadata": {},
   "outputs": [
    {
     "name": "stdout",
     "output_type": "stream",
     "text": [
      "                Close       High        Low       Open  Volume\n",
      "Price                                                         \n",
      "2002-08-12  28.240953  28.454361  27.547377  27.547377  212976\n",
      "2002-08-13  27.858589  28.730005  27.654075  28.276514  153576\n",
      "2002-08-14  25.937918  27.920829  25.413288  27.920829  822776\n",
      "2002-08-15  25.937918  25.937918  25.937918  25.937918       0\n",
      "2002-08-16  25.875681  27.031639  25.431082  25.804546  811856\n"
     ]
    }
   ],
   "source": [
    "import pandas as pd\n",
    "\n",
    "df = pd.read_csv(\"tcs_data.csv\", skiprows=[1,2], index_col=0, parse_dates=True)\n",
    "print(df.head())"
   ]
  },
  {
   "cell_type": "code",
   "execution_count": 17,
   "id": "5c0e8be2",
   "metadata": {},
   "outputs": [
    {
     "name": "stdout",
     "output_type": "stream",
     "text": [
      "<class 'pandas.core.frame.DataFrame'>\n",
      "DatetimeIndex: 5667 entries, 2002-08-12 to 2025-06-11\n",
      "Data columns (total 5 columns):\n",
      " #   Column  Non-Null Count  Dtype  \n",
      "---  ------  --------------  -----  \n",
      " 0   Close   5667 non-null   float64\n",
      " 1   High    5667 non-null   float64\n",
      " 2   Low     5667 non-null   float64\n",
      " 3   Open    5667 non-null   float64\n",
      " 4   Volume  5667 non-null   int64  \n",
      "dtypes: float64(4), int64(1)\n",
      "memory usage: 265.6 KB\n"
     ]
    }
   ],
   "source": [
    "df.info()"
   ]
  },
  {
   "cell_type": "code",
   "execution_count": 18,
   "id": "fa78d909",
   "metadata": {},
   "outputs": [
    {
     "name": "stdout",
     "output_type": "stream",
     "text": [
      "                  Close         High          Low         Open  Volume\n",
      "Price                                                                 \n",
      "2002-08-15    25.937918    25.937918    25.937918    25.937918       0\n",
      "2002-09-10    29.121260    29.121260    29.121260    29.121260       0\n",
      "2002-10-02    26.151329    26.151329    26.151329    26.151329       0\n",
      "2002-10-15    26.987179    26.987179    26.987179    26.987179       0\n",
      "2002-11-06    26.204685    26.204685    26.204685    26.204685       0\n",
      "...                 ...          ...          ...          ...     ...\n",
      "2009-04-30   117.281441   117.281441   117.281441   117.281441       0\n",
      "2009-10-13   221.396973   221.396973   221.396973   221.396973       0\n",
      "2014-04-24   895.885315   895.885315   895.885315   895.885315       0\n",
      "2014-10-15  1104.944580  1104.944580  1104.944580  1104.944580       0\n",
      "2025-03-18  3466.885010  3466.885010  3466.885010  3466.885010       0\n",
      "\n",
      "[311 rows x 5 columns]\n"
     ]
    }
   ],
   "source": [
    "volume_with_zeros=df[df['Volume'] == 0]\n",
    "print(volume_with_zeros)"
   ]
  },
  {
   "cell_type": "code",
   "execution_count": 20,
   "id": "ad71e995",
   "metadata": {},
   "outputs": [],
   "source": [
    "df = df[df['Volume'] != 0]"
   ]
  },
  {
   "cell_type": "code",
   "execution_count": 21,
   "id": "36c77ace",
   "metadata": {},
   "outputs": [
    {
     "name": "stdout",
     "output_type": "stream",
     "text": [
      "<class 'pandas.core.frame.DataFrame'>\n",
      "DatetimeIndex: 5356 entries, 2002-08-12 to 2025-06-11\n",
      "Data columns (total 5 columns):\n",
      " #   Column  Non-Null Count  Dtype  \n",
      "---  ------  --------------  -----  \n",
      " 0   Close   5356 non-null   float64\n",
      " 1   High    5356 non-null   float64\n",
      " 2   Low     5356 non-null   float64\n",
      " 3   Open    5356 non-null   float64\n",
      " 4   Volume  5356 non-null   int64  \n",
      "dtypes: float64(4), int64(1)\n",
      "memory usage: 251.1 KB\n"
     ]
    }
   ],
   "source": [
    "df.info()"
   ]
  },
  {
   "cell_type": "code",
   "execution_count": 22,
   "id": "58643cd3",
   "metadata": {},
   "outputs": [
    {
     "data": {
      "image/png": "[encoded data removed]",
      "text/plain": [
       "<Figure size 640x480 with 1 Axes>"
      ]
     },
     "metadata": {},
     "output_type": "display_data"
    }
   ],
   "source": [
    "import matplotlib.pyplot as plt\n",
    "\n",
    "df['Close'].plot()\n",
    "plt.title('TCS Stock Closing Prices')\n",
    "plt.xlabel('Date')\n",
    "plt.ylabel('Price')\n",
    "plt.show()"
   ]
  },
  {
   "cell_type": "code",
   "execution_count": null,
   "id": "eb63f2e1",
   "metadata": {},
   "outputs": [],
   "source": [
    "\n"
   ]
  },
  {
   "cell_type": "code",
   "execution_count": null,
   "id": "dab81359",
   "metadata": {},
   "outputs": [
    {
     "data": {
      "image/png": "[encoded data removed]",
      "text/plain": [
       "<Figure size 640x480 with 1 Axes>"
      ]
     },
     "metadata": {},
     "output_type": "display_data"
    }
   ],
   "source": [
    "df['Volume'].plot()\n",
    "plt.title('TCS Stock Volume')\n",
    "plt.xlabel('Date')\n",
    "plt.ylabel('Volume')\n",
    "plt.show()"
   ]
  },
  {
   "cell_type": "code",
   "execution_count": 24,
   "id": "095e1eab",
   "metadata": {},
   "outputs": [
    {
     "data": {
      "image/png": "[encoded data removed]",
      "text/plain": [
       "<Figure size 1200x600 with 1 Axes>"
      ]
     },
     "metadata": {},
     "output_type": "display_data"
    }
   ],
   "source": [
    "import matplotlib.pyplot as plt\n",
    "\n",
    "# Filter the DataFrame for dates between 2016 and 2020\n",
    "volume_2016_2020 = df.loc['2016':'2020', 'Volume']\n",
    "\n",
    "# Plot the volume\n",
    "plt.figure(figsize=(12, 6))\n",
    "volume_2016_2020.plot()\n",
    "plt.title('TCS Trading Volume (2016-2020)')\n",
    "plt.xlabel('Date')\n",
    "plt.ylabel('Volume')\n",
    "plt.show()"
   ]
  },
  {
   "cell_type": "code",
   "execution_count": 25,
   "id": "c52d5e36",
   "metadata": {},
   "outputs": [
    {
     "name": "stdout",
     "output_type": "stream",
     "text": [
      "Most volume was traded on 2018-03-13 00:00:00 with 88067154 shares.\n"
     ]
    }
   ],
   "source": [
    "max_volume_date = df['Volume'].idxmax()\n",
    "max_volume = df['Volume'].max()\n",
    "print(f\"Most volume was traded on {max_volume_date} with {max_volume} shares.\")"
   ]
  },
  {
   "cell_type": "code",
   "execution_count": 26,
   "id": "6fe3f90b",
   "metadata": {},
   "outputs": [
    {
     "data": {
      "application/vnd.microsoft.datawrangler.viewer.v0+json": {
       "columns": [
        {
         "name": "Price",
         "rawType": "datetime64[ns]",
         "type": "datetime"
        },
        {
         "name": "Close",
         "rawType": "float64",
         "type": "float"
        },
        {
         "name": "High",
         "rawType": "float64",
         "type": "float"
        },
        {
         "name": "Low",
         "rawType": "float64",
         "type": "float"
        },
        {
         "name": "Open",
         "rawType": "float64",
         "type": "float"
        },
        {
         "name": "Volume",
         "rawType": "int64",
         "type": "integer"
        }
       ],
       "ref": "f043137e-a0e1-41fa-9c76-cace379c2dd1",
       "rows": [
        [
         "2018-03-13 00:00:00",
         "1251.6402587890625",
         "1274.5762593223608",
         "1245.2233484966976",
         "1268.1593490299958",
         "88067154"
        ]
       ],
       "shape": {
        "columns": 5,
        "rows": 1
       }
      },
      "text/html": [
       "<div>\n",
       "<style scoped>\n",
       "    .dataframe tbody tr th:only-of-type {\n",
       "        vertical-align: middle;\n",
       "    }\n",
       "\n",
       "    .dataframe tbody tr th {\n",
       "        vertical-align: top;\n",
       "    }\n",
       "\n",
       "    .dataframe thead th {\n",
       "        text-align: right;\n",
       "    }\n",
       "</style>\n",
       "<table border=\"1\" class=\"dataframe\">\n",
       "  <thead>\n",
       "    <tr style=\"text-align: right;\">\n",
       "      <th></th>\n",
       "      <th>Close</th>\n",
       "      <th>High</th>\n",
       "      <th>Low</th>\n",
       "      <th>Open</th>\n",
       "      <th>Volume</th>\n",
       "    </tr>\n",
       "    <tr>\n",
       "      <th>Price</th>\n",
       "      <th></th>\n",
       "      <th></th>\n",
       "      <th></th>\n",
       "      <th></th>\n",
       "      <th></th>\n",
       "    </tr>\n",
       "  </thead>\n",
       "  <tbody>\n",
       "    <tr>\n",
       "      <th>2018-03-13</th>\n",
       "      <td>1251.640259</td>\n",
       "      <td>1274.576259</td>\n",
       "      <td>1245.223348</td>\n",
       "      <td>1268.159349</td>\n",
       "      <td>88067154</td>\n",
       "    </tr>\n",
       "  </tbody>\n",
       "</table>\n",
       "</div>"
      ],
      "text/plain": [
       "                  Close         High          Low         Open    Volume\n",
       "Price                                                                   \n",
       "2018-03-13  1251.640259  1274.576259  1245.223348  1268.159349  88067154"
      ]
     },
     "execution_count": 26,
     "metadata": {},
     "output_type": "execute_result"
    }
   ],
   "source": [
    "df[df['Volume'] == max_volume]"
   ]
  },
  {
   "cell_type": "code",
   "execution_count": 27,
   "id": "a60ec589",
   "metadata": {},
   "outputs": [
    {
     "data": {
      "application/vnd.microsoft.datawrangler.viewer.v0+json": {
       "columns": [
        {
         "name": "index",
         "rawType": "object",
         "type": "string"
        },
        {
         "name": "Close",
         "rawType": "float64",
         "type": "float"
        },
        {
         "name": "High",
         "rawType": "float64",
         "type": "float"
        },
        {
         "name": "Low",
         "rawType": "float64",
         "type": "float"
        },
        {
         "name": "Open",
         "rawType": "float64",
         "type": "float"
        },
        {
         "name": "Volume",
         "rawType": "float64",
         "type": "float"
        }
       ],
       "ref": "10a03123-484a-428d-9e4e-e8fa982fcde9",
       "rows": [
        [
         "count",
         "5356.0",
         "5356.0",
         "5356.0",
         "5356.0",
         "5356.0"
        ],
        [
         "mean",
         "1262.1578157053143",
         "1275.4111157289392",
         "1249.2991298931663",
         "1262.651703141014",
         "3340512.4555638535"
        ],
        [
         "std",
         "1225.5601088651342",
         "1236.6964175282073",
         "1214.96186554317",
         "1225.9170982036064",
         "3061710.816675664"
        ],
        [
         "min",
         "25.235456466674805",
         "25.92903515554509",
         "23.10137172854872",
         "23.10137172854872",
         "4560.0"
        ],
        [
         "25%",
         "212.03612518310544",
         "215.63381984031687",
         "209.06885308517377",
         "212.69039376273093",
         "1774207.75"
        ],
        [
         "50%",
         "940.7479553222656",
         "952.0257601551987",
         "925.1072616447198",
         "939.4227877748853",
         "2591592.0"
        ],
        [
         "75%",
         "1915.5988464355469",
         "1938.432013001783",
         "1888.8458096913303",
         "1915.919817008525",
         "4004204.25"
        ],
        [
         "max",
         "4431.9970703125",
         "4469.467701595954",
         "4391.362570268632",
         "4453.651401052585",
         "88067154.0"
        ]
       ],
       "shape": {
        "columns": 5,
        "rows": 8
       }
      },
      "text/html": [
       "<div>\n",
       "<style scoped>\n",
       "    .dataframe tbody tr th:only-of-type {\n",
       "        vertical-align: middle;\n",
       "    }\n",
       "\n",
       "    .dataframe tbody tr th {\n",
       "        vertical-align: top;\n",
       "    }\n",
       "\n",
       "    .dataframe thead th {\n",
       "        text-align: right;\n",
       "    }\n",
       "</style>\n",
       "<table border=\"1\" class=\"dataframe\">\n",
       "  <thead>\n",
       "    <tr style=\"text-align: right;\">\n",
       "      <th></th>\n",
       "      <th>Close</th>\n",
       "      <th>High</th>\n",
       "      <th>Low</th>\n",
       "      <th>Open</th>\n",
       "      <th>Volume</th>\n",
       "    </tr>\n",
       "  </thead>\n",
       "  <tbody>\n",
       "    <tr>\n",
       "      <th>count</th>\n",
       "      <td>5356.000000</td>\n",
       "      <td>5356.000000</td>\n",
       "      <td>5356.000000</td>\n",
       "      <td>5356.000000</td>\n",
       "      <td>5.356000e+03</td>\n",
       "    </tr>\n",
       "    <tr>\n",
       "      <th>mean</th>\n",
       "      <td>1262.157816</td>\n",
       "      <td>1275.411116</td>\n",
       "      <td>1249.299130</td>\n",
       "      <td>1262.651703</td>\n",
       "      <td>3.340512e+06</td>\n",
       "    </tr>\n",
       "    <tr>\n",
       "      <th>std</th>\n",
       "      <td>1225.560109</td>\n",
       "      <td>1236.696418</td>\n",
       "      <td>1214.961866</td>\n",
       "      <td>1225.917098</td>\n",
       "      <td>3.061711e+06</td>\n",
       "    </tr>\n",
       "    <tr>\n",
       "      <th>min</th>\n",
       "      <td>25.235456</td>\n",
       "      <td>25.929035</td>\n",
       "      <td>23.101372</td>\n",
       "      <td>23.101372</td>\n",
       "      <td>4.560000e+03</td>\n",
       "    </tr>\n",
       "    <tr>\n",
       "      <th>25%</th>\n",
       "      <td>212.036125</td>\n",
       "      <td>215.633820</td>\n",
       "      <td>209.068853</td>\n",
       "      <td>212.690394</td>\n",
       "      <td>1.774208e+06</td>\n",
       "    </tr>\n",
       "    <tr>\n",
       "      <th>50%</th>\n",
       "      <td>940.747955</td>\n",
       "      <td>952.025760</td>\n",
       "      <td>925.107262</td>\n",
       "      <td>939.422788</td>\n",
       "      <td>2.591592e+06</td>\n",
       "    </tr>\n",
       "    <tr>\n",
       "      <th>75%</th>\n",
       "      <td>1915.598846</td>\n",
       "      <td>1938.432013</td>\n",
       "      <td>1888.845810</td>\n",
       "      <td>1915.919817</td>\n",
       "      <td>4.004204e+06</td>\n",
       "    </tr>\n",
       "    <tr>\n",
       "      <th>max</th>\n",
       "      <td>4431.997070</td>\n",
       "      <td>4469.467702</td>\n",
       "      <td>4391.362570</td>\n",
       "      <td>4453.651401</td>\n",
       "      <td>8.806715e+07</td>\n",
       "    </tr>\n",
       "  </tbody>\n",
       "</table>\n",
       "</div>"
      ],
      "text/plain": [
       "             Close         High          Low         Open        Volume\n",
       "count  5356.000000  5356.000000  5356.000000  5356.000000  5.356000e+03\n",
       "mean   1262.157816  1275.411116  1249.299130  1262.651703  3.340512e+06\n",
       "std    1225.560109  1236.696418  1214.961866  1225.917098  3.061711e+06\n",
       "min      25.235456    25.929035    23.101372    23.101372  4.560000e+03\n",
       "25%     212.036125   215.633820   209.068853   212.690394  1.774208e+06\n",
       "50%     940.747955   952.025760   925.107262   939.422788  2.591592e+06\n",
       "75%    1915.598846  1938.432013  1888.845810  1915.919817  4.004204e+06\n",
       "max    4431.997070  4469.467702  4391.362570  4453.651401  8.806715e+07"
      ]
     },
     "execution_count": 27,
     "metadata": {},
     "output_type": "execute_result"
    }
   ],
   "source": [
    "df.describe()"
   ]
  },
  {
   "cell_type": "code",
   "execution_count": 28,
   "id": "a99e52b4",
   "metadata": {},
   "outputs": [
    {
     "data": {
      "application/vnd.microsoft.datawrangler.viewer.v0+json": {
       "columns": [
        {
         "name": "Price",
         "rawType": "datetime64[ns]",
         "type": "datetime"
        },
        {
         "name": "Close",
         "rawType": "float64",
         "type": "float"
        },
        {
         "name": "High",
         "rawType": "float64",
         "type": "float"
        },
        {
         "name": "Low",
         "rawType": "float64",
         "type": "float"
        },
        {
         "name": "Open",
         "rawType": "float64",
         "type": "float"
        },
        {
         "name": "Volume",
         "rawType": "int64",
         "type": "integer"
        }
       ],
       "ref": "e894856e-7f31-416b-9696-06b1393e6adc",
       "rows": [
        [
         "2002-08-12 00:00:00",
         "28.24095344543457",
         "28.4543606072652",
         "27.547376777460908",
         "27.547376777460908",
         "212976"
        ],
        [
         "2002-08-13 00:00:00",
         "27.85858917236328",
         "28.730005369722257",
         "27.654074593613576",
         "28.27651357160488",
         "153576"
        ],
        [
         "2002-08-14 00:00:00",
         "25.937917709350582",
         "27.920829002076285",
         "25.413288496697355",
         "27.920829002076285",
         "822776"
        ],
        [
         "2002-08-16 00:00:00",
         "25.87568092346192",
         "27.031639177774647",
         "25.43108159488009",
         "25.804546116336404",
         "811856"
        ],
        [
         "2002-08-19 00:00:00",
         "25.235456466674805",
         "26.08908770883613",
         "24.995374460629343",
         "26.08908770883613",
         "205880"
        ]
       ],
       "shape": {
        "columns": 5,
        "rows": 5
       }
      },
      "text/html": [
       "<div>\n",
       "<style scoped>\n",
       "    .dataframe tbody tr th:only-of-type {\n",
       "        vertical-align: middle;\n",
       "    }\n",
       "\n",
       "    .dataframe tbody tr th {\n",
       "        vertical-align: top;\n",
       "    }\n",
       "\n",
       "    .dataframe thead th {\n",
       "        text-align: right;\n",
       "    }\n",
       "</style>\n",
       "<table border=\"1\" class=\"dataframe\">\n",
       "  <thead>\n",
       "    <tr style=\"text-align: right;\">\n",
       "      <th></th>\n",
       "      <th>Close</th>\n",
       "      <th>High</th>\n",
       "      <th>Low</th>\n",
       "      <th>Open</th>\n",
       "      <th>Volume</th>\n",
       "    </tr>\n",
       "    <tr>\n",
       "      <th>Price</th>\n",
       "      <th></th>\n",
       "      <th></th>\n",
       "      <th></th>\n",
       "      <th></th>\n",
       "      <th></th>\n",
       "    </tr>\n",
       "  </thead>\n",
       "  <tbody>\n",
       "    <tr>\n",
       "      <th>2002-08-12</th>\n",
       "      <td>28.240953</td>\n",
       "      <td>28.454361</td>\n",
       "      <td>27.547377</td>\n",
       "      <td>27.547377</td>\n",
       "      <td>212976</td>\n",
       "    </tr>\n",
       "    <tr>\n",
       "      <th>2002-08-13</th>\n",
       "      <td>27.858589</td>\n",
       "      <td>28.730005</td>\n",
       "      <td>27.654075</td>\n",
       "      <td>28.276514</td>\n",
       "      <td>153576</td>\n",
       "    </tr>\n",
       "    <tr>\n",
       "      <th>2002-08-14</th>\n",
       "      <td>25.937918</td>\n",
       "      <td>27.920829</td>\n",
       "      <td>25.413288</td>\n",
       "      <td>27.920829</td>\n",
       "      <td>822776</td>\n",
       "    </tr>\n",
       "    <tr>\n",
       "      <th>2002-08-16</th>\n",
       "      <td>25.875681</td>\n",
       "      <td>27.031639</td>\n",
       "      <td>25.431082</td>\n",
       "      <td>25.804546</td>\n",
       "      <td>811856</td>\n",
       "    </tr>\n",
       "    <tr>\n",
       "      <th>2002-08-19</th>\n",
       "      <td>25.235456</td>\n",
       "      <td>26.089088</td>\n",
       "      <td>24.995374</td>\n",
       "      <td>26.089088</td>\n",
       "      <td>205880</td>\n",
       "    </tr>\n",
       "  </tbody>\n",
       "</table>\n",
       "</div>"
      ],
      "text/plain": [
       "                Close       High        Low       Open  Volume\n",
       "Price                                                         \n",
       "2002-08-12  28.240953  28.454361  27.547377  27.547377  212976\n",
       "2002-08-13  27.858589  28.730005  27.654075  28.276514  153576\n",
       "2002-08-14  25.937918  27.920829  25.413288  27.920829  822776\n",
       "2002-08-16  25.875681  27.031639  25.431082  25.804546  811856\n",
       "2002-08-19  25.235456  26.089088  24.995374  26.089088  205880"
      ]
     },
     "execution_count": 28,
     "metadata": {},
     "output_type": "execute_result"
    }
   ],
   "source": [
    "df.to_csv(\"tcs_data_cleaned.csv\")\n",
    "import pandas as pd\n",
    "# Load the cleaned data\n",
    "df = pd.read_csv(\"tcs_data_cleaned.csv\", index_col=0, parse_dates=True)\n",
    "\n",
    "df.head()"
   ]
  }
 ],
 "metadata": {
  "kernelspec": {
   "display_name": "Python 3",
   "language": "python",
   "name": "python3"
  },
  "language_info": {
   "codemirror_mode": {
    "name": "ipython",
    "version": 3
   },
   "file_extension": ".py",
   "mimetype": "text/x-python",
   "name": "python",
   "nbconvert_exporter": "python",
   "pygments_lexer": "ipython3",
   "version": "3.11.9"
  }
 },
 "nbformat": 4,
 "nbformat_minor": 5
}
